{
  "nbformat": 4,
  "nbformat_minor": 0,
  "metadata": {
    "colab": {
      "name": "Untitled13.ipynb",
      "provenance": [],
      "collapsed_sections": [],
      "authorship_tag": "ABX9TyNzjZbOZnvk9L5H0rIxsHuQ",
      "include_colab_link": true
    },
    "kernelspec": {
      "display_name": "Python 3",
      "name": "python3"
    },
    "language_info": {
      "name": "python"
    }
  },
  "cells": [
    {
      "cell_type": "markdown",
      "metadata": {
        "id": "view-in-github",
        "colab_type": "text"
      },
      "source": [
        "<a href=\"https://colab.research.google.com/github/lusekelok/diveintocode-ml/blob/master/Binary%20classification%20of%20iris.ipynb\" target=\"_parent\"><img src=\"https://colab.research.google.com/assets/colab-badge.svg\" alt=\"Open In Colab\"/></a>"
      ]
    },
    {
      "cell_type": "code",
      "metadata": {
        "id": "4THEwicOtg3I"
      },
      "source": [
        "import numpy as np\n",
        "import pandas as pd\n",
        "import seaborn as sns\n",
        "from sklearn.model_selection import train_test_split\n",
        "from sklearn.preprocessing import StandardScaler\n",
        "from sklearn.neighbors import KNeighborsClassifier\n",
        "import matplotlib.pyplot as plt\n"
      ],
      "execution_count": 51,
      "outputs": []
    },
    {
      "cell_type": "code",
      "metadata": {
        "id": "0MBWJixJj0so"
      },
      "source": [
        "#[Problem 1] Select features and categories for practice\n",
        "\n",
        "from sklearn.datasets import load_iris    #load iris data file\n",
        "iris = load_iris()\n",
        "#print(type(iris))"
      ],
      "execution_count": 52,
      "outputs": []
    },
    {
      "cell_type": "code",
      "metadata": {
        "id": "Zxz37dXgz2D3"
      },
      "source": [
        "X = iris.data       #assigning the iris data to X\n",
        "print(X)\n",
        "y = iris.target     #assigning the iris target to y\n",
        "print(y)"
      ],
      "execution_count": null,
      "outputs": []
    },
    {
      "cell_type": "code",
      "metadata": {
        "id": "906Wz2D7z6AF"
      },
      "source": [
        "y1 = y.reshape(150,1)\n",
        "datafram1 = np.hstack((X,y1))\n",
        "print(datafram1)"
      ],
      "execution_count": null,
      "outputs": []
    },
    {
      "cell_type": "code",
      "metadata": {
        "colab": {
          "base_uri": "https://localhost:8080/",
          "height": 414
        },
        "id": "eJRk_s8N3von",
        "outputId": "c311b94b-617c-4bcb-b36c-7997363c27b6"
      },
      "source": [
        "datafram2 = pd.DataFrame(datafram1, columns=['sepal length (cm)', 'sepal width (cm)', 'petal length (cm)', 'petal width (cm)', 'Species'])    #add columns to the created dataframe\n",
        "datafram2.head(100)"
      ],
      "execution_count": 127,
      "outputs": [
        {
          "output_type": "execute_result",
          "data": {
            "text/html": [
              "<div>\n",
              "<style scoped>\n",
              "    .dataframe tbody tr th:only-of-type {\n",
              "        vertical-align: middle;\n",
              "    }\n",
              "\n",
              "    .dataframe tbody tr th {\n",
              "        vertical-align: top;\n",
              "    }\n",
              "\n",
              "    .dataframe thead th {\n",
              "        text-align: right;\n",
              "    }\n",
              "</style>\n",
              "<table border=\"1\" class=\"dataframe\">\n",
              "  <thead>\n",
              "    <tr style=\"text-align: right;\">\n",
              "      <th></th>\n",
              "      <th>sepal length (cm)</th>\n",
              "      <th>sepal width (cm)</th>\n",
              "      <th>petal length (cm)</th>\n",
              "      <th>petal width (cm)</th>\n",
              "      <th>Species</th>\n",
              "    </tr>\n",
              "  </thead>\n",
              "  <tbody>\n",
              "    <tr>\n",
              "      <th>0</th>\n",
              "      <td>5.1</td>\n",
              "      <td>3.5</td>\n",
              "      <td>1.4</td>\n",
              "      <td>0.2</td>\n",
              "      <td>0.0</td>\n",
              "    </tr>\n",
              "    <tr>\n",
              "      <th>1</th>\n",
              "      <td>4.9</td>\n",
              "      <td>3.0</td>\n",
              "      <td>1.4</td>\n",
              "      <td>0.2</td>\n",
              "      <td>0.0</td>\n",
              "    </tr>\n",
              "    <tr>\n",
              "      <th>2</th>\n",
              "      <td>4.7</td>\n",
              "      <td>3.2</td>\n",
              "      <td>1.3</td>\n",
              "      <td>0.2</td>\n",
              "      <td>0.0</td>\n",
              "    </tr>\n",
              "    <tr>\n",
              "      <th>3</th>\n",
              "      <td>4.6</td>\n",
              "      <td>3.1</td>\n",
              "      <td>1.5</td>\n",
              "      <td>0.2</td>\n",
              "      <td>0.0</td>\n",
              "    </tr>\n",
              "    <tr>\n",
              "      <th>4</th>\n",
              "      <td>5.0</td>\n",
              "      <td>3.6</td>\n",
              "      <td>1.4</td>\n",
              "      <td>0.2</td>\n",
              "      <td>0.0</td>\n",
              "    </tr>\n",
              "    <tr>\n",
              "      <th>...</th>\n",
              "      <td>...</td>\n",
              "      <td>...</td>\n",
              "      <td>...</td>\n",
              "      <td>...</td>\n",
              "      <td>...</td>\n",
              "    </tr>\n",
              "    <tr>\n",
              "      <th>95</th>\n",
              "      <td>5.7</td>\n",
              "      <td>3.0</td>\n",
              "      <td>4.2</td>\n",
              "      <td>1.2</td>\n",
              "      <td>1.0</td>\n",
              "    </tr>\n",
              "    <tr>\n",
              "      <th>96</th>\n",
              "      <td>5.7</td>\n",
              "      <td>2.9</td>\n",
              "      <td>4.2</td>\n",
              "      <td>1.3</td>\n",
              "      <td>1.0</td>\n",
              "    </tr>\n",
              "    <tr>\n",
              "      <th>97</th>\n",
              "      <td>6.2</td>\n",
              "      <td>2.9</td>\n",
              "      <td>4.3</td>\n",
              "      <td>1.3</td>\n",
              "      <td>1.0</td>\n",
              "    </tr>\n",
              "    <tr>\n",
              "      <th>98</th>\n",
              "      <td>5.1</td>\n",
              "      <td>2.5</td>\n",
              "      <td>3.0</td>\n",
              "      <td>1.1</td>\n",
              "      <td>1.0</td>\n",
              "    </tr>\n",
              "    <tr>\n",
              "      <th>99</th>\n",
              "      <td>5.7</td>\n",
              "      <td>2.8</td>\n",
              "      <td>4.1</td>\n",
              "      <td>1.3</td>\n",
              "      <td>1.0</td>\n",
              "    </tr>\n",
              "  </tbody>\n",
              "</table>\n",
              "<p>100 rows × 5 columns</p>\n",
              "</div>"
            ],
            "text/plain": [
              "    sepal length (cm)  sepal width (cm)  ...  petal width (cm)  Species\n",
              "0                 5.1               3.5  ...               0.2      0.0\n",
              "1                 4.9               3.0  ...               0.2      0.0\n",
              "2                 4.7               3.2  ...               0.2      0.0\n",
              "3                 4.6               3.1  ...               0.2      0.0\n",
              "4                 5.0               3.6  ...               0.2      0.0\n",
              "..                ...               ...  ...               ...      ...\n",
              "95                5.7               3.0  ...               1.2      1.0\n",
              "96                5.7               2.9  ...               1.3      1.0\n",
              "97                6.2               2.9  ...               1.3      1.0\n",
              "98                5.1               2.5  ...               1.1      1.0\n",
              "99                5.7               2.8  ...               1.3      1.0\n",
              "\n",
              "[100 rows x 5 columns]"
            ]
          },
          "metadata": {},
          "execution_count": 127
        }
      ]
    },
    {
      "cell_type": "code",
      "metadata": {
        "colab": {
          "base_uri": "https://localhost:8080/",
          "height": 1000
        },
        "id": "jsK0thiGoc9W",
        "outputId": "cf7d4ed7-527e-4f94-c225-4f284e5f537d"
      },
      "source": [
        "versicolor = datafram2[[\"sepal length (cm)\", \"petal length (cm)\", \"Species\"]].iloc[50:100,]\n",
        "versicolor"
      ],
      "execution_count": 128,
      "outputs": [
        {
          "output_type": "execute_result",
          "data": {
            "text/html": [
              "<div>\n",
              "<style scoped>\n",
              "    .dataframe tbody tr th:only-of-type {\n",
              "        vertical-align: middle;\n",
              "    }\n",
              "\n",
              "    .dataframe tbody tr th {\n",
              "        vertical-align: top;\n",
              "    }\n",
              "\n",
              "    .dataframe thead th {\n",
              "        text-align: right;\n",
              "    }\n",
              "</style>\n",
              "<table border=\"1\" class=\"dataframe\">\n",
              "  <thead>\n",
              "    <tr style=\"text-align: right;\">\n",
              "      <th></th>\n",
              "      <th>sepal length (cm)</th>\n",
              "      <th>petal length (cm)</th>\n",
              "      <th>Species</th>\n",
              "    </tr>\n",
              "  </thead>\n",
              "  <tbody>\n",
              "    <tr>\n",
              "      <th>50</th>\n",
              "      <td>7.0</td>\n",
              "      <td>4.7</td>\n",
              "      <td>1.0</td>\n",
              "    </tr>\n",
              "    <tr>\n",
              "      <th>51</th>\n",
              "      <td>6.4</td>\n",
              "      <td>4.5</td>\n",
              "      <td>1.0</td>\n",
              "    </tr>\n",
              "    <tr>\n",
              "      <th>52</th>\n",
              "      <td>6.9</td>\n",
              "      <td>4.9</td>\n",
              "      <td>1.0</td>\n",
              "    </tr>\n",
              "    <tr>\n",
              "      <th>53</th>\n",
              "      <td>5.5</td>\n",
              "      <td>4.0</td>\n",
              "      <td>1.0</td>\n",
              "    </tr>\n",
              "    <tr>\n",
              "      <th>54</th>\n",
              "      <td>6.5</td>\n",
              "      <td>4.6</td>\n",
              "      <td>1.0</td>\n",
              "    </tr>\n",
              "    <tr>\n",
              "      <th>55</th>\n",
              "      <td>5.7</td>\n",
              "      <td>4.5</td>\n",
              "      <td>1.0</td>\n",
              "    </tr>\n",
              "    <tr>\n",
              "      <th>56</th>\n",
              "      <td>6.3</td>\n",
              "      <td>4.7</td>\n",
              "      <td>1.0</td>\n",
              "    </tr>\n",
              "    <tr>\n",
              "      <th>57</th>\n",
              "      <td>4.9</td>\n",
              "      <td>3.3</td>\n",
              "      <td>1.0</td>\n",
              "    </tr>\n",
              "    <tr>\n",
              "      <th>58</th>\n",
              "      <td>6.6</td>\n",
              "      <td>4.6</td>\n",
              "      <td>1.0</td>\n",
              "    </tr>\n",
              "    <tr>\n",
              "      <th>59</th>\n",
              "      <td>5.2</td>\n",
              "      <td>3.9</td>\n",
              "      <td>1.0</td>\n",
              "    </tr>\n",
              "    <tr>\n",
              "      <th>60</th>\n",
              "      <td>5.0</td>\n",
              "      <td>3.5</td>\n",
              "      <td>1.0</td>\n",
              "    </tr>\n",
              "    <tr>\n",
              "      <th>61</th>\n",
              "      <td>5.9</td>\n",
              "      <td>4.2</td>\n",
              "      <td>1.0</td>\n",
              "    </tr>\n",
              "    <tr>\n",
              "      <th>62</th>\n",
              "      <td>6.0</td>\n",
              "      <td>4.0</td>\n",
              "      <td>1.0</td>\n",
              "    </tr>\n",
              "    <tr>\n",
              "      <th>63</th>\n",
              "      <td>6.1</td>\n",
              "      <td>4.7</td>\n",
              "      <td>1.0</td>\n",
              "    </tr>\n",
              "    <tr>\n",
              "      <th>64</th>\n",
              "      <td>5.6</td>\n",
              "      <td>3.6</td>\n",
              "      <td>1.0</td>\n",
              "    </tr>\n",
              "    <tr>\n",
              "      <th>65</th>\n",
              "      <td>6.7</td>\n",
              "      <td>4.4</td>\n",
              "      <td>1.0</td>\n",
              "    </tr>\n",
              "    <tr>\n",
              "      <th>66</th>\n",
              "      <td>5.6</td>\n",
              "      <td>4.5</td>\n",
              "      <td>1.0</td>\n",
              "    </tr>\n",
              "    <tr>\n",
              "      <th>67</th>\n",
              "      <td>5.8</td>\n",
              "      <td>4.1</td>\n",
              "      <td>1.0</td>\n",
              "    </tr>\n",
              "    <tr>\n",
              "      <th>68</th>\n",
              "      <td>6.2</td>\n",
              "      <td>4.5</td>\n",
              "      <td>1.0</td>\n",
              "    </tr>\n",
              "    <tr>\n",
              "      <th>69</th>\n",
              "      <td>5.6</td>\n",
              "      <td>3.9</td>\n",
              "      <td>1.0</td>\n",
              "    </tr>\n",
              "    <tr>\n",
              "      <th>70</th>\n",
              "      <td>5.9</td>\n",
              "      <td>4.8</td>\n",
              "      <td>1.0</td>\n",
              "    </tr>\n",
              "    <tr>\n",
              "      <th>71</th>\n",
              "      <td>6.1</td>\n",
              "      <td>4.0</td>\n",
              "      <td>1.0</td>\n",
              "    </tr>\n",
              "    <tr>\n",
              "      <th>72</th>\n",
              "      <td>6.3</td>\n",
              "      <td>4.9</td>\n",
              "      <td>1.0</td>\n",
              "    </tr>\n",
              "    <tr>\n",
              "      <th>73</th>\n",
              "      <td>6.1</td>\n",
              "      <td>4.7</td>\n",
              "      <td>1.0</td>\n",
              "    </tr>\n",
              "    <tr>\n",
              "      <th>74</th>\n",
              "      <td>6.4</td>\n",
              "      <td>4.3</td>\n",
              "      <td>1.0</td>\n",
              "    </tr>\n",
              "    <tr>\n",
              "      <th>75</th>\n",
              "      <td>6.6</td>\n",
              "      <td>4.4</td>\n",
              "      <td>1.0</td>\n",
              "    </tr>\n",
              "    <tr>\n",
              "      <th>76</th>\n",
              "      <td>6.8</td>\n",
              "      <td>4.8</td>\n",
              "      <td>1.0</td>\n",
              "    </tr>\n",
              "    <tr>\n",
              "      <th>77</th>\n",
              "      <td>6.7</td>\n",
              "      <td>5.0</td>\n",
              "      <td>1.0</td>\n",
              "    </tr>\n",
              "    <tr>\n",
              "      <th>78</th>\n",
              "      <td>6.0</td>\n",
              "      <td>4.5</td>\n",
              "      <td>1.0</td>\n",
              "    </tr>\n",
              "    <tr>\n",
              "      <th>79</th>\n",
              "      <td>5.7</td>\n",
              "      <td>3.5</td>\n",
              "      <td>1.0</td>\n",
              "    </tr>\n",
              "    <tr>\n",
              "      <th>80</th>\n",
              "      <td>5.5</td>\n",
              "      <td>3.8</td>\n",
              "      <td>1.0</td>\n",
              "    </tr>\n",
              "    <tr>\n",
              "      <th>81</th>\n",
              "      <td>5.5</td>\n",
              "      <td>3.7</td>\n",
              "      <td>1.0</td>\n",
              "    </tr>\n",
              "    <tr>\n",
              "      <th>82</th>\n",
              "      <td>5.8</td>\n",
              "      <td>3.9</td>\n",
              "      <td>1.0</td>\n",
              "    </tr>\n",
              "    <tr>\n",
              "      <th>83</th>\n",
              "      <td>6.0</td>\n",
              "      <td>5.1</td>\n",
              "      <td>1.0</td>\n",
              "    </tr>\n",
              "    <tr>\n",
              "      <th>84</th>\n",
              "      <td>5.4</td>\n",
              "      <td>4.5</td>\n",
              "      <td>1.0</td>\n",
              "    </tr>\n",
              "    <tr>\n",
              "      <th>85</th>\n",
              "      <td>6.0</td>\n",
              "      <td>4.5</td>\n",
              "      <td>1.0</td>\n",
              "    </tr>\n",
              "    <tr>\n",
              "      <th>86</th>\n",
              "      <td>6.7</td>\n",
              "      <td>4.7</td>\n",
              "      <td>1.0</td>\n",
              "    </tr>\n",
              "    <tr>\n",
              "      <th>87</th>\n",
              "      <td>6.3</td>\n",
              "      <td>4.4</td>\n",
              "      <td>1.0</td>\n",
              "    </tr>\n",
              "    <tr>\n",
              "      <th>88</th>\n",
              "      <td>5.6</td>\n",
              "      <td>4.1</td>\n",
              "      <td>1.0</td>\n",
              "    </tr>\n",
              "    <tr>\n",
              "      <th>89</th>\n",
              "      <td>5.5</td>\n",
              "      <td>4.0</td>\n",
              "      <td>1.0</td>\n",
              "    </tr>\n",
              "    <tr>\n",
              "      <th>90</th>\n",
              "      <td>5.5</td>\n",
              "      <td>4.4</td>\n",
              "      <td>1.0</td>\n",
              "    </tr>\n",
              "    <tr>\n",
              "      <th>91</th>\n",
              "      <td>6.1</td>\n",
              "      <td>4.6</td>\n",
              "      <td>1.0</td>\n",
              "    </tr>\n",
              "    <tr>\n",
              "      <th>92</th>\n",
              "      <td>5.8</td>\n",
              "      <td>4.0</td>\n",
              "      <td>1.0</td>\n",
              "    </tr>\n",
              "    <tr>\n",
              "      <th>93</th>\n",
              "      <td>5.0</td>\n",
              "      <td>3.3</td>\n",
              "      <td>1.0</td>\n",
              "    </tr>\n",
              "    <tr>\n",
              "      <th>94</th>\n",
              "      <td>5.6</td>\n",
              "      <td>4.2</td>\n",
              "      <td>1.0</td>\n",
              "    </tr>\n",
              "    <tr>\n",
              "      <th>95</th>\n",
              "      <td>5.7</td>\n",
              "      <td>4.2</td>\n",
              "      <td>1.0</td>\n",
              "    </tr>\n",
              "    <tr>\n",
              "      <th>96</th>\n",
              "      <td>5.7</td>\n",
              "      <td>4.2</td>\n",
              "      <td>1.0</td>\n",
              "    </tr>\n",
              "    <tr>\n",
              "      <th>97</th>\n",
              "      <td>6.2</td>\n",
              "      <td>4.3</td>\n",
              "      <td>1.0</td>\n",
              "    </tr>\n",
              "    <tr>\n",
              "      <th>98</th>\n",
              "      <td>5.1</td>\n",
              "      <td>3.0</td>\n",
              "      <td>1.0</td>\n",
              "    </tr>\n",
              "    <tr>\n",
              "      <th>99</th>\n",
              "      <td>5.7</td>\n",
              "      <td>4.1</td>\n",
              "      <td>1.0</td>\n",
              "    </tr>\n",
              "  </tbody>\n",
              "</table>\n",
              "</div>"
            ],
            "text/plain": [
              "    sepal length (cm)  petal length (cm)  Species\n",
              "50                7.0                4.7      1.0\n",
              "51                6.4                4.5      1.0\n",
              "52                6.9                4.9      1.0\n",
              "53                5.5                4.0      1.0\n",
              "54                6.5                4.6      1.0\n",
              "55                5.7                4.5      1.0\n",
              "56                6.3                4.7      1.0\n",
              "57                4.9                3.3      1.0\n",
              "58                6.6                4.6      1.0\n",
              "59                5.2                3.9      1.0\n",
              "60                5.0                3.5      1.0\n",
              "61                5.9                4.2      1.0\n",
              "62                6.0                4.0      1.0\n",
              "63                6.1                4.7      1.0\n",
              "64                5.6                3.6      1.0\n",
              "65                6.7                4.4      1.0\n",
              "66                5.6                4.5      1.0\n",
              "67                5.8                4.1      1.0\n",
              "68                6.2                4.5      1.0\n",
              "69                5.6                3.9      1.0\n",
              "70                5.9                4.8      1.0\n",
              "71                6.1                4.0      1.0\n",
              "72                6.3                4.9      1.0\n",
              "73                6.1                4.7      1.0\n",
              "74                6.4                4.3      1.0\n",
              "75                6.6                4.4      1.0\n",
              "76                6.8                4.8      1.0\n",
              "77                6.7                5.0      1.0\n",
              "78                6.0                4.5      1.0\n",
              "79                5.7                3.5      1.0\n",
              "80                5.5                3.8      1.0\n",
              "81                5.5                3.7      1.0\n",
              "82                5.8                3.9      1.0\n",
              "83                6.0                5.1      1.0\n",
              "84                5.4                4.5      1.0\n",
              "85                6.0                4.5      1.0\n",
              "86                6.7                4.7      1.0\n",
              "87                6.3                4.4      1.0\n",
              "88                5.6                4.1      1.0\n",
              "89                5.5                4.0      1.0\n",
              "90                5.5                4.4      1.0\n",
              "91                6.1                4.6      1.0\n",
              "92                5.8                4.0      1.0\n",
              "93                5.0                3.3      1.0\n",
              "94                5.6                4.2      1.0\n",
              "95                5.7                4.2      1.0\n",
              "96                5.7                4.2      1.0\n",
              "97                6.2                4.3      1.0\n",
              "98                5.1                3.0      1.0\n",
              "99                5.7                4.1      1.0"
            ]
          },
          "metadata": {},
          "execution_count": 128
        }
      ]
    },
    {
      "cell_type": "code",
      "metadata": {
        "id": "7HgS-vHxu5H0"
      },
      "source": [
        "virginica = datafram2[[\"sepal length (cm)\", \"petal length (cm)\", \"Species\"]].iloc[100:150,]\n",
        "virginica"
      ],
      "execution_count": null,
      "outputs": []
    },
    {
      "cell_type": "code",
      "metadata": {
        "colab": {
          "base_uri": "https://localhost:8080/",
          "height": 414
        },
        "id": "1833nnKJvWiy",
        "outputId": "ff7867ae-39f4-4b40-c962-7234c8a208b3"
      },
      "source": [
        "#[Problem 2] Data analysis\n",
        "\n",
        "dataframVV = datafram2[[\"sepal length (cm)\", \"petal length (cm)\", \"Species\"]].iloc[50:150,]\n",
        "dataframVV"
      ],
      "execution_count": 129,
      "outputs": [
        {
          "output_type": "execute_result",
          "data": {
            "text/html": [
              "<div>\n",
              "<style scoped>\n",
              "    .dataframe tbody tr th:only-of-type {\n",
              "        vertical-align: middle;\n",
              "    }\n",
              "\n",
              "    .dataframe tbody tr th {\n",
              "        vertical-align: top;\n",
              "    }\n",
              "\n",
              "    .dataframe thead th {\n",
              "        text-align: right;\n",
              "    }\n",
              "</style>\n",
              "<table border=\"1\" class=\"dataframe\">\n",
              "  <thead>\n",
              "    <tr style=\"text-align: right;\">\n",
              "      <th></th>\n",
              "      <th>sepal length (cm)</th>\n",
              "      <th>petal length (cm)</th>\n",
              "      <th>Species</th>\n",
              "    </tr>\n",
              "  </thead>\n",
              "  <tbody>\n",
              "    <tr>\n",
              "      <th>50</th>\n",
              "      <td>7.0</td>\n",
              "      <td>4.7</td>\n",
              "      <td>1.0</td>\n",
              "    </tr>\n",
              "    <tr>\n",
              "      <th>51</th>\n",
              "      <td>6.4</td>\n",
              "      <td>4.5</td>\n",
              "      <td>1.0</td>\n",
              "    </tr>\n",
              "    <tr>\n",
              "      <th>52</th>\n",
              "      <td>6.9</td>\n",
              "      <td>4.9</td>\n",
              "      <td>1.0</td>\n",
              "    </tr>\n",
              "    <tr>\n",
              "      <th>53</th>\n",
              "      <td>5.5</td>\n",
              "      <td>4.0</td>\n",
              "      <td>1.0</td>\n",
              "    </tr>\n",
              "    <tr>\n",
              "      <th>54</th>\n",
              "      <td>6.5</td>\n",
              "      <td>4.6</td>\n",
              "      <td>1.0</td>\n",
              "    </tr>\n",
              "    <tr>\n",
              "      <th>...</th>\n",
              "      <td>...</td>\n",
              "      <td>...</td>\n",
              "      <td>...</td>\n",
              "    </tr>\n",
              "    <tr>\n",
              "      <th>145</th>\n",
              "      <td>6.7</td>\n",
              "      <td>5.2</td>\n",
              "      <td>2.0</td>\n",
              "    </tr>\n",
              "    <tr>\n",
              "      <th>146</th>\n",
              "      <td>6.3</td>\n",
              "      <td>5.0</td>\n",
              "      <td>2.0</td>\n",
              "    </tr>\n",
              "    <tr>\n",
              "      <th>147</th>\n",
              "      <td>6.5</td>\n",
              "      <td>5.2</td>\n",
              "      <td>2.0</td>\n",
              "    </tr>\n",
              "    <tr>\n",
              "      <th>148</th>\n",
              "      <td>6.2</td>\n",
              "      <td>5.4</td>\n",
              "      <td>2.0</td>\n",
              "    </tr>\n",
              "    <tr>\n",
              "      <th>149</th>\n",
              "      <td>5.9</td>\n",
              "      <td>5.1</td>\n",
              "      <td>2.0</td>\n",
              "    </tr>\n",
              "  </tbody>\n",
              "</table>\n",
              "<p>100 rows × 3 columns</p>\n",
              "</div>"
            ],
            "text/plain": [
              "     sepal length (cm)  petal length (cm)  Species\n",
              "50                 7.0                4.7      1.0\n",
              "51                 6.4                4.5      1.0\n",
              "52                 6.9                4.9      1.0\n",
              "53                 5.5                4.0      1.0\n",
              "54                 6.5                4.6      1.0\n",
              "..                 ...                ...      ...\n",
              "145                6.7                5.2      2.0\n",
              "146                6.3                5.0      2.0\n",
              "147                6.5                5.2      2.0\n",
              "148                6.2                5.4      2.0\n",
              "149                5.9                5.1      2.0\n",
              "\n",
              "[100 rows x 3 columns]"
            ]
          },
          "metadata": {},
          "execution_count": 129
        }
      ]
    },
    {
      "cell_type": "code",
      "metadata": {
        "id": "TR5dXwlzw8QC"
      },
      "source": [
        "sns.scatterplot(data=dataframVV, x=\"sepal length (cm)\", y=\"petal length (cm)\", hue=\"Species\");  #viewing data using scatterplot"
      ],
      "execution_count": null,
      "outputs": []
    },
    {
      "cell_type": "code",
      "metadata": {
        "id": "zcUWiLq2yeyC"
      },
      "source": [
        "import seaborn as sns   #using seaborn boxplot\n",
        "sns.boxplot(x='Species', y='sepal length (cm)',data=dataframVV);     "
      ],
      "execution_count": null,
      "outputs": []
    },
    {
      "cell_type": "code",
      "metadata": {
        "id": "uhCrUbYhzN26"
      },
      "source": [
        "import seaborn as sns   #using seaborn boxplot\n",
        "sns.boxplot(x='Species', y='petal length (cm)',data=dataframVV);"
      ],
      "execution_count": null,
      "outputs": []
    },
    {
      "cell_type": "code",
      "metadata": {
        "id": "wJOOoZhPzYRq"
      },
      "source": [
        "sns.violinplot(x='Species', y='sepal length (cm)',data=dataframVV);"
      ],
      "execution_count": null,
      "outputs": []
    },
    {
      "cell_type": "code",
      "metadata": {
        "id": "EHHREWzTziDK"
      },
      "source": [
        "sns.violinplot(x='Species', y='petal length (cm)',data=dataframVV);"
      ],
      "execution_count": null,
      "outputs": []
    },
    {
      "cell_type": "code",
      "metadata": {
        "id": "BQ9oQ6I84Ooa"
      },
      "source": [
        "#[Problem 3] Division of preprocessing/training data and verification data\n",
        "\n",
        "Xvv = dataframVV[[\"sepal length (cm)\", \"petal length (cm)\"]]      #extracting the X datasets (exploratory data)\n",
        "print(Xvv)\n",
        "\n",
        "yvv = dataframVV[[\"Species\"]]         #extracting the y datasets(objective data)\n",
        "print(yvv)\n",
        "\n",
        "print(Xvv.shape)\n",
        "print(yvv.shape)"
      ],
      "execution_count": null,
      "outputs": []
    },
    {
      "cell_type": "code",
      "metadata": {
        "id": "r-cTeuC17rGq"
      },
      "source": [
        "X_train, X_test, y_train, y_test = train_test_split(Xvv, yvv)\n",
        "print(X_train)\n",
        "print(X_test)\n",
        "print(y_train)\n",
        "print(y_test)"
      ],
      "execution_count": null,
      "outputs": []
    },
    {
      "cell_type": "code",
      "metadata": {
        "colab": {
          "base_uri": "https://localhost:8080/"
        },
        "id": "1fHinC3y9V45",
        "outputId": "8e3ea9d4-4497-4bbf-d000-4335e88101fc"
      },
      "source": [
        "#[Problem 4] Pretreatment/Standardization\n",
        "\n",
        "scaler = StandardScaler().fit(X_train)      #transformation for the X_train datasets\n",
        "print(scaler)"
      ],
      "execution_count": 66,
      "outputs": [
        {
          "output_type": "stream",
          "name": "stdout",
          "text": [
            "StandardScaler(copy=True, with_mean=True, with_std=True)\n"
          ]
        }
      ]
    },
    {
      "cell_type": "code",
      "metadata": {
        "colab": {
          "base_uri": "https://localhost:8080/"
        },
        "id": "zK0ecEqDLmtk",
        "outputId": "593708b3-b135-40e4-d79b-1713ebd63236"
      },
      "source": [
        "scaler.mean_        #checking the original mean for the X_train datasets"
      ],
      "execution_count": 67,
      "outputs": [
        {
          "output_type": "execute_result",
          "data": {
            "text/plain": [
              "array([6.22666667, 4.86666667])"
            ]
          },
          "metadata": {},
          "execution_count": 67
        }
      ]
    },
    {
      "cell_type": "code",
      "metadata": {
        "colab": {
          "base_uri": "https://localhost:8080/"
        },
        "id": "YAvdaKjpLtOv",
        "outputId": "5c0882d7-f704-4423-bdd1-2c0dc14e06d8"
      },
      "source": [
        "scaler.scale_         #checking the original  variance (standard deviation) for the X_train datasets"
      ],
      "execution_count": 68,
      "outputs": [
        {
          "output_type": "execute_result",
          "data": {
            "text/plain": [
              "array([0.60428102, 0.78099651])"
            ]
          },
          "metadata": {},
          "execution_count": 68
        }
      ]
    },
    {
      "cell_type": "code",
      "metadata": {
        "id": "b9dlJDLGL_nS"
      },
      "source": [
        "X_train_scaled = scaler.transform(X_train)\n",
        "X_train_scaled"
      ],
      "execution_count": null,
      "outputs": []
    },
    {
      "cell_type": "code",
      "metadata": {
        "colab": {
          "base_uri": "https://localhost:8080/"
        },
        "id": "jSC_vtgiMeZB",
        "outputId": "411d0772-6850-40a7-daf4-63df94289404"
      },
      "source": [
        "print(X_train_scaled.mean(axis=0))      #to confirm the transformation is done, mean is approximately 0"
      ],
      "execution_count": 70,
      "outputs": [
        {
          "output_type": "stream",
          "name": "stdout",
          "text": [
            "[-1.31450406e-15  5.86197757e-16]\n"
          ]
        }
      ]
    },
    {
      "cell_type": "code",
      "metadata": {
        "colab": {
          "base_uri": "https://localhost:8080/"
        },
        "id": "FIcmw5ExMklm",
        "outputId": "6001c488-a8ff-4145-f0ed-73aab270e83f"
      },
      "source": [
        "print(X_train_scaled.std(axis=0))       #to confirm the transformation, std is equal to 1"
      ],
      "execution_count": 71,
      "outputs": [
        {
          "output_type": "stream",
          "name": "stdout",
          "text": [
            "[1. 1.]\n"
          ]
        }
      ]
    },
    {
      "cell_type": "code",
      "metadata": {
        "colab": {
          "base_uri": "https://localhost:8080/"
        },
        "id": "32-XGZKpNmGD",
        "outputId": "f42aadc2-5b98-4279-bb50-d8721ffe5aa1"
      },
      "source": [
        "scaler1 = StandardScaler().fit(X_test)      #transformation for the X_test datasets\n",
        "print(scaler1)"
      ],
      "execution_count": 72,
      "outputs": [
        {
          "output_type": "stream",
          "name": "stdout",
          "text": [
            "StandardScaler(copy=True, with_mean=True, with_std=True)\n"
          ]
        }
      ]
    },
    {
      "cell_type": "code",
      "metadata": {
        "colab": {
          "base_uri": "https://localhost:8080/"
        },
        "id": "yaXrjiAJN1ua",
        "outputId": "8bb6a1a0-5465-4ed3-c290-96919ae21e6b"
      },
      "source": [
        "scaler1.mean_"
      ],
      "execution_count": 73,
      "outputs": [
        {
          "output_type": "execute_result",
          "data": {
            "text/plain": [
              "array([6.368, 5.024])"
            ]
          },
          "metadata": {},
          "execution_count": 73
        }
      ]
    },
    {
      "cell_type": "code",
      "metadata": {
        "colab": {
          "base_uri": "https://localhost:8080/"
        },
        "id": "4PuKj2YhN_KL",
        "outputId": "d1508d91-c870-4eb5-95f7-ea932dab98fb"
      },
      "source": [
        "scaler1.scale_"
      ],
      "execution_count": 74,
      "outputs": [
        {
          "output_type": "execute_result",
          "data": {
            "text/plain": [
              "array([0.79333221, 0.9222928 ])"
            ]
          },
          "metadata": {},
          "execution_count": 74
        }
      ]
    },
    {
      "cell_type": "code",
      "metadata": {
        "id": "KEIWUq77OcuS"
      },
      "source": [
        "X_test_scaled = scaler1.transform(X_test)\n",
        "X_test_scaled"
      ],
      "execution_count": null,
      "outputs": []
    },
    {
      "cell_type": "code",
      "metadata": {
        "colab": {
          "base_uri": "https://localhost:8080/"
        },
        "id": "qd6KMNwQOnMi",
        "outputId": "90929289-82e1-4bff-d2cf-a116194eb921"
      },
      "source": [
        "print(X_test_scaled.mean(axis=0))      #to confirm the transformation is done, mean is approximately 0"
      ],
      "execution_count": 76,
      "outputs": [
        {
          "output_type": "stream",
          "name": "stdout",
          "text": [
            "[-2.22044605e-16  8.52651283e-16]\n"
          ]
        }
      ]
    },
    {
      "cell_type": "code",
      "metadata": {
        "colab": {
          "base_uri": "https://localhost:8080/"
        },
        "id": "W56xSaScP4s6",
        "outputId": "f081e4a9-22da-4390-8055-7e41ac53ad0a"
      },
      "source": [
        "print(X_test_scaled.std(axis=0))        #to confirm the transformation, std is equal to 1"
      ],
      "execution_count": 77,
      "outputs": [
        {
          "output_type": "stream",
          "name": "stdout",
          "text": [
            "[1. 1.]\n"
          ]
        }
      ]
    },
    {
      "cell_type": "code",
      "metadata": {
        "colab": {
          "base_uri": "https://localhost:8080/"
        },
        "id": "wYyqIuFlQZ3q",
        "outputId": "bcb7f098-f798-4cf9-cfa8-c1caab3c5c5a"
      },
      "source": [
        "#[Problem 5] Learning and estimation          &     #[Problem 6] Evaluation        \n",
        "\n",
        "classifier = KNeighborsClassifier(n_neighbors=5)\n",
        "classifier.fit(X_train_scaled, np.ravel(y_train, order='C'))          #for 5-nn"
      ],
      "execution_count": 78,
      "outputs": [
        {
          "output_type": "execute_result",
          "data": {
            "text/plain": [
              "KNeighborsClassifier(algorithm='auto', leaf_size=30, metric='minkowski',\n",
              "                     metric_params=None, n_jobs=None, n_neighbors=5, p=2,\n",
              "                     weights='uniform')"
            ]
          },
          "metadata": {},
          "execution_count": 78
        }
      ]
    },
    {
      "cell_type": "code",
      "metadata": {
        "colab": {
          "base_uri": "https://localhost:8080/"
        },
        "id": "b3L3UcyvnNky",
        "outputId": "c657f5ce-4837-4fb9-d134-61a6ab9f6c73"
      },
      "source": [
        "y_pred = classifier.predict(X_test_scaled)\n",
        "\n",
        "from sklearn.metrics import classification_report, confusion_matrix\n",
        "print(classification_report(y_test, y_pred))\n",
        "print(confusion_matrix(y_test, y_pred))"
      ],
      "execution_count": 79,
      "outputs": [
        {
          "output_type": "stream",
          "name": "stdout",
          "text": [
            "              precision    recall  f1-score   support\n",
            "\n",
            "         1.0       0.91      0.91      0.91        11\n",
            "         2.0       0.93      0.93      0.93        14\n",
            "\n",
            "    accuracy                           0.92        25\n",
            "   macro avg       0.92      0.92      0.92        25\n",
            "weighted avg       0.92      0.92      0.92        25\n",
            "\n",
            "[[10  1]\n",
            " [ 1 13]]\n"
          ]
        }
      ]
    },
    {
      "cell_type": "code",
      "metadata": {
        "colab": {
          "base_uri": "https://localhost:8080/"
        },
        "id": "CvA-pYbbou2Z",
        "outputId": "80cfcc3f-70dc-4933-b7ae-0ded206f6c76"
      },
      "source": [
        "classifier1 = KNeighborsClassifier(n_neighbors=3)           #for 3-nn\n",
        "classifier1.fit(X_train_scaled, np.ravel(y_train, order='C'))\n",
        "\n",
        "y_pred1 = classifier1.predict(X_test_scaled)\n",
        "\n",
        "from sklearn.metrics import classification_report, confusion_matrix\n",
        "print(classification_report(y_test, y_pred1))\n",
        "print(confusion_matrix(y_test, y_pred1))"
      ],
      "execution_count": 80,
      "outputs": [
        {
          "output_type": "stream",
          "name": "stdout",
          "text": [
            "              precision    recall  f1-score   support\n",
            "\n",
            "         1.0       0.91      0.91      0.91        11\n",
            "         2.0       0.93      0.93      0.93        14\n",
            "\n",
            "    accuracy                           0.92        25\n",
            "   macro avg       0.92      0.92      0.92        25\n",
            "weighted avg       0.92      0.92      0.92        25\n",
            "\n",
            "[[10  1]\n",
            " [ 1 13]]\n"
          ]
        }
      ]
    },
    {
      "cell_type": "code",
      "metadata": {
        "colab": {
          "base_uri": "https://localhost:8080/"
        },
        "id": "D6x9AecfpLvE",
        "outputId": "72d13717-5d36-489e-e461-eb804650d3e5"
      },
      "source": [
        "classifier2 = KNeighborsClassifier(n_neighbors=1)       #for 1-nn\n",
        "classifier2.fit(X_train_scaled, np.ravel(y_train, order='C'))\n",
        "\n",
        "y_pred2 = classifier2.predict(X_test_scaled)\n",
        "\n",
        "from sklearn.metrics import classification_report, confusion_matrix\n",
        "print(classification_report(y_test, y_pred2))\n",
        "print(confusion_matrix(y_test, y_pred2))"
      ],
      "execution_count": 81,
      "outputs": [
        {
          "output_type": "stream",
          "name": "stdout",
          "text": [
            "              precision    recall  f1-score   support\n",
            "\n",
            "         1.0       0.91      0.91      0.91        11\n",
            "         2.0       0.93      0.93      0.93        14\n",
            "\n",
            "    accuracy                           0.92        25\n",
            "   macro avg       0.92      0.92      0.92        25\n",
            "weighted avg       0.92      0.92      0.92        25\n",
            "\n",
            "[[10  1]\n",
            " [ 1 13]]\n"
          ]
        }
      ]
    },
    {
      "cell_type": "code",
      "metadata": {
        "id": "p_3Z-wQAhMU6"
      },
      "source": [
        "#plt.scatter(X_train_scaled, np.ravel(y_train, order='C'))\n",
        "#plt.plot(X_train_scaled, classifier1.predict(X_test_scaled), c='red', lw=4)"
      ],
      "execution_count": 82,
      "outputs": []
    },
    {
      "cell_type": "code",
      "metadata": {
        "id": "-SCfJzSfqRcq"
      },
      "source": [
        "#Below is an illustration of confusion matrix and the associated formula for the classification assessment accuracy "
      ],
      "execution_count": 83,
      "outputs": []
    },
    {
      "cell_type": "markdown",
      "metadata": {
        "id": "Jwr7EyKopRG4"
      },
      "source": [
        "![download.png](data:image/png;base64,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)\n",
        "![Accuracy.png](data:image/png;base64,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)\n",
        "![Recall.png](data:image/png;base64,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)![Precision.png](data:image/png;base64,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)![F1 score.png](data:image/png;base64,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)"
      ]
    },
    {
      "cell_type": "code",
      "metadata": {
        "id": "DXi8586mrSG8"
      },
      "source": [
        "#[Problem 7] Visualization\n"
      ],
      "execution_count": 84,
      "outputs": []
    },
    {
      "cell_type": "code",
      "metadata": {
        "id": "RefwdFgG_Ak9"
      },
      "source": [
        "import matplotlib.pyplot as plt\n",
        "from matplotlib.colors import ListedColormap\n",
        "import matplotlib.patches as mpatches\n",
        "def decision_region(X, y, model, step=0.01, title='decision region', xlabel='xlabel', ylabel='ylabel', target_names=['versicolor', 'virginica']):\n",
        "    \"\"\"\n",
        "    Draw the determination area of the model that learned binary classification with two-dimensional features.\n",
        "    The background color is drawn from the estimated values of the trained model.\n",
        "    The points on the scatter plot are training or validation data.\n",
        "    Parameters\n",
        "    ----------------\n",
        "    X : ndarray, shape(n_samples, 2)\n",
        "        Feature value\n",
        "    y : ndarray, shape(n_samples,)\n",
        "        label\n",
        "    model : object\n",
        "        Insert the installed model of the learned model\n",
        "    step : float, (default : 0.1)\n",
        "        Set the interval to calculate the estimate\n",
        "    title : str\n",
        "        Give the text of the graph Title\n",
        "    xlabel, ylabel : str\n",
        "        Give the text of the axis label\n",
        "    target_names= : list of str\n",
        "        Give a list of legends\n",
        "    \"\"\"\n",
        "    # setting\n",
        "    scatter_color = ['red', 'blue']\n",
        "    contourf_color = ['pink', 'skyblue']\n",
        "    n_class = 2\n",
        "    # pred\n",
        "    mesh_f0, mesh_f1  = np.meshgrid(np.arange(np.min(X[:,0])-0.5, np.max(X[:,0])+0.5, step), np.arange(np.min(X[:,1])-0.5, np.max(X[:,1])+0.5, step))\n",
        "    mesh = np.c_[np.ravel(mesh_f0),np.ravel(mesh_f1)]\n",
        "    y_pred = model.predict(mesh).reshape(mesh_f0.shape)\n",
        "    # plot\n",
        "    plt.title(title)\n",
        "    plt.xlabel(xlabel)\n",
        "    plt.ylabel(ylabel)\n",
        "    plt.contourf(mesh_f0, mesh_f1, y_pred, n_class-1, cmap=ListedColormap(contourf_color))\n",
        "    plt.contour(mesh_f0, mesh_f1, y_pred, n_class-1, colors='y', linewidths=3, alpha=0.5)\n",
        "    for i, target in enumerate(np.unique(y)):\n",
        "        plt.scatter(X[y==target][:, 0], X[y==target][:, 1], s=80, color=scatter_color[i], label=target_names[i], marker='o')\n",
        "    patches = [mpatches.Patch(color=scatter_color[i], label=target_names[i]) for i in range(n_class)]\n",
        "    plt.legend(handles=patches)\n",
        "    plt.legend()\n",
        "    plt.show()"
      ],
      "execution_count": 150,
      "outputs": []
    },
    {
      "cell_type": "code",
      "metadata": {
        "colab": {
          "base_uri": "https://localhost:8080/",
          "height": 295
        },
        "id": "G2s9ok7pfHZX",
        "outputId": "1853d4bd-3726-47b9-d92e-7457d58b8b75"
      },
      "source": [
        "decision_region(X_train_scaled, np.ravel(y_train, order='C'), classifier1, step=0.01, title='decision region of 3-nn', xlabel='sepal_length', ylabel='petal_length', target_names=['versicolor', 'virginica'])"
      ],
      "execution_count": 86,
      "outputs": [
        {
          "output_type": "display_data",
          "data": {
            "image/png": "[encoded data removed]",
            "text/plain": [
              "<Figure size 432x288 with 1 Axes>"
            ]
          },
          "metadata": {
            "needs_background": "light"
          }
        }
      ]
    },
    {
      "cell_type": "code",
      "metadata": {
        "id": "yw4sadetqJSY"
      },
      "source": [
        "#[Problem 8] Learning by other methods\n",
        "\n",
        "from sklearn.linear_model import LogisticRegression\n",
        "from sklearn.svm import SVC\n",
        "from sklearn import svm\n",
        "from sklearn.tree import DecisionTreeClassifier\n",
        "from sklearn.ensemble import RandomForestClassifier"
      ],
      "execution_count": 93,
      "outputs": []
    },
    {
      "cell_type": "code",
      "metadata": {
        "colab": {
          "base_uri": "https://localhost:8080/"
        },
        "id": "MPHK_wvBoQX1",
        "outputId": "feca1d73-3ff8-4aba-bbe1-227e625340a7"
      },
      "source": [
        "#Logistic regression\n",
        "\n",
        "lr = LogisticRegression()     #instantiating the classifier\n",
        "lr = lr.fit(X_train_scaled,np.ravel(y_train, order='C'))    #training the classifier\n",
        "y_pred_lr=lr.predict(X_test_scaled)    #prediction\n",
        "\n",
        "from sklearn.metrics import classification_report, confusion_matrix\n",
        "print(classification_report(y_test, y_pred_lr))\n",
        "print(confusion_matrix(y_test, y_pred_lr))\n",
        "\n",
        "#decision_region(X_train_scaled, np.ravel(y_train, order='C'), lr, step=0.01, title='decision region of linear regression', xlabel='sepal_length', ylabel='petal_length', target_names=['versicolor', 'virginica'])"
      ],
      "execution_count": 114,
      "outputs": [
        {
          "output_type": "stream",
          "name": "stdout",
          "text": [
            "              precision    recall  f1-score   support\n",
            "\n",
            "         1.0       0.91      0.91      0.91        11\n",
            "         2.0       0.93      0.93      0.93        14\n",
            "\n",
            "    accuracy                           0.92        25\n",
            "   macro avg       0.92      0.92      0.92        25\n",
            "weighted avg       0.92      0.92      0.92        25\n",
            "\n",
            "[[10  1]\n",
            " [ 1 13]]\n"
          ]
        }
      ]
    },
    {
      "cell_type": "code",
      "metadata": {
        "colab": {
          "base_uri": "https://localhost:8080/"
        },
        "id": "Rbat3PQLpd_u",
        "outputId": "b4ffd16f-a518-4199-c881-73facc3e964d"
      },
      "source": [
        "#SVM\n",
        "\n",
        "sv = svm.SVC(kernel='linear') # Linear Kernel     instantiating the classifier\n",
        "sv = sv.fit(X_train_scaled,np.ravel(y_train, order='C'))    #training the classifier\n",
        "y_pred_sv=sv.predict(X_test_scaled)    #prediction\n",
        "\n",
        "from sklearn.metrics import classification_report, confusion_matrix\n",
        "print(classification_report(y_test, y_pred_sv))\n",
        "print(confusion_matrix(y_test, y_pred_sv))\n",
        "\n",
        "#decision_region(X_train_scaled, np.ravel(y_train, order='C'), sv, step=0.01, title='decision region of SVM', xlabel='sepal_length', ylabel='petal_length', target_names=['versicolor', 'virginica'])"
      ],
      "execution_count": 115,
      "outputs": [
        {
          "output_type": "stream",
          "name": "stdout",
          "text": [
            "              precision    recall  f1-score   support\n",
            "\n",
            "         1.0       0.91      0.91      0.91        11\n",
            "         2.0       0.93      0.93      0.93        14\n",
            "\n",
            "    accuracy                           0.92        25\n",
            "   macro avg       0.92      0.92      0.92        25\n",
            "weighted avg       0.92      0.92      0.92        25\n",
            "\n",
            "[[10  1]\n",
            " [ 1 13]]\n"
          ]
        }
      ]
    },
    {
      "cell_type": "code",
      "metadata": {
        "colab": {
          "base_uri": "https://localhost:8080/"
        },
        "id": "bHlz7J43zMAW",
        "outputId": "2aa91754-5de0-440c-c5c9-8f172b8b6df1"
      },
      "source": [
        "#Decision tree\n",
        "\n",
        "dc = DecisionTreeClassifier() # Linear Kernel     instantiating the classifier\n",
        "dc = dc.fit(X_train_scaled,np.ravel(y_train, order='C'))    #training the classifier\n",
        "y_pred_dc=dc.predict(X_test_scaled)    #prediction\n",
        "\n",
        "from sklearn.metrics import classification_report, confusion_matrix\n",
        "print(classification_report(y_test, y_pred_dc))\n",
        "print(confusion_matrix(y_test, y_pred_dc))\n",
        "\n",
        "#decision_region(X_train_scaled, np.ravel(y_train, order='C'), dc, step=0.01, title='decision region of decision tree', xlabel='sepal_length', ylabel='petal_length', target_names=['versicolor', 'virginica'])"
      ],
      "execution_count": 116,
      "outputs": [
        {
          "output_type": "stream",
          "name": "stdout",
          "text": [
            "              precision    recall  f1-score   support\n",
            "\n",
            "         1.0       0.91      0.91      0.91        11\n",
            "         2.0       0.93      0.93      0.93        14\n",
            "\n",
            "    accuracy                           0.92        25\n",
            "   macro avg       0.92      0.92      0.92        25\n",
            "weighted avg       0.92      0.92      0.92        25\n",
            "\n",
            "[[10  1]\n",
            " [ 1 13]]\n"
          ]
        }
      ]
    },
    {
      "cell_type": "code",
      "metadata": {
        "colab": {
          "base_uri": "https://localhost:8080/"
        },
        "id": "-vjAQ4lCssO0",
        "outputId": "3d92e045-1966-4921-dcd3-a5292334a734"
      },
      "source": [
        "#Random Forest\n",
        "\n",
        "rf = RandomForestClassifier(n_estimators=100) # Linear Kernel     instantiating the classifier\n",
        "rf = rf.fit(X_train_scaled,np.ravel(y_train, order='C'))    #training the classifier\n",
        "y_pred_rf=rf.predict(X_test_scaled)    #prediction\n",
        "\n",
        "from sklearn.metrics import classification_report, confusion_matrix\n",
        "print(classification_report(y_test, y_pred_rf))\n",
        "print(confusion_matrix(y_test, y_pred_rf))\n",
        "\n",
        "#decision_region(X_train_scaled, np.ravel(y_train, order='C'), rf, step=0.01, title='decision region of random forest', xlabel='sepal_length', ylabel='petal_length', target_names=['versicolor', 'virginica'])"
      ],
      "execution_count": 117,
      "outputs": [
        {
          "output_type": "stream",
          "name": "stdout",
          "text": [
            "              precision    recall  f1-score   support\n",
            "\n",
            "         1.0       0.91      0.91      0.91        11\n",
            "         2.0       0.93      0.93      0.93        14\n",
            "\n",
            "    accuracy                           0.92        25\n",
            "   macro avg       0.92      0.92      0.92        25\n",
            "weighted avg       0.92      0.92      0.92        25\n",
            "\n",
            "[[10  1]\n",
            " [ 1 13]]\n"
          ]
        }
      ]
    },
    {
      "cell_type": "code",
      "metadata": {
        "colab": {
          "base_uri": "https://localhost:8080/",
          "height": 1000
        },
        "id": "JouESmcxFAoz",
        "outputId": "dc7845df-2251-4a8e-f429-6ec56a93a16a"
      },
      "source": [
        "#All the produced decision boundaries for the various classifiers\n",
        "\n",
        "\n",
        "decision_region(X_train_scaled, np.ravel(y_train, order='C'), classifier1, step=0.01, title='decision region of 3-nn', xlabel='sepal_length', ylabel='petal_length', target_names=['versicolor', 'virginica'])\n",
        "decision_region(X_train_scaled, np.ravel(y_train, order='C'), lr, step=0.01, title='decision region of linear regression', xlabel='sepal_length', ylabel='petal_length', target_names=['versicolor', 'virginica'])\n",
        "decision_region(X_train_scaled, np.ravel(y_train, order='C'), sv, step=0.01, title='decision region of SVM', xlabel='sepal_length', ylabel='petal_length', target_names=['versicolor', 'virginica'])\n",
        "decision_region(X_train_scaled, np.ravel(y_train, order='C'), dc, step=0.01, title='decision region of decision tree', xlabel='sepal_length', ylabel='petal_length', target_names=['versicolor', 'virginica'])\n",
        "decision_region(X_train_scaled, np.ravel(y_train, order='C'), rf, step=0.01, title='decision region of random forest', xlabel='sepal_length', ylabel='petal_length', target_names=['versicolor', 'virginica'])"
      ],
      "execution_count": 113,
      "outputs": [
        {
          "output_type": "display_data",
          "data": {
            "image/png": "[encoded data removed]",
            "text/plain": [
              "<Figure size 432x288 with 1 Axes>"
            ]
          },
          "metadata": {
            "needs_background": "light"
          }
        },
        {
          "output_type": "display_data",
          "data": {
            "image/png": "[encoded data removed]",
            "text/plain": [
              "<Figure size 432x288 with 1 Axes>"
            ]
          },
          "metadata": {
            "needs_background": "light"
          }
        },
        {
          "output_type": "display_data",
          "data": {
            "image/png": "[encoded data removed]",
            "text/plain": [
              "<Figure size 432x288 with 1 Axes>"
            ]
          },
          "metadata": {
            "needs_background": "light"
          }
        },
        {
          "output_type": "display_data",
          "data": {
            "image/png": "[encoded data removed]",
            "text/plain": [
              "<Figure size 432x288 with 1 Axes>"
            ]
          },
          "metadata": {
            "needs_background": "light"
          }
        },
        {
          "output_type": "display_data",
          "data": {
            "image/png": "[encoded data removed]",
            "text/plain": [
              "<Figure size 432x288 with 1 Axes>"
            ]
          },
          "metadata": {
            "needs_background": "light"
          }
        }
      ]
    },
    {
      "cell_type": "markdown",
      "metadata": {
        "id": "AoLziqCSH3KQ"
      },
      "source": [
        "Looking at the produced confusion matrice for each classifier, they all seem to be equally highly accurate in the way they classify the data however, when it comes to visual analysis of their respective decision boundary, in my opinion, Random forest seem to be outperform the rest of the classifiers. Random forest looks to fit the classes well and quite sensitive to the distribution of the points. "
      ]
    },
    {
      "cell_type": "code",
      "metadata": {
        "colab": {
          "base_uri": "https://localhost:8080/"
        },
        "id": "cf_5l-IE4CGC",
        "outputId": "fd8d8c1e-9546-4fb6-b1b8-c44d4bf83583"
      },
      "source": [
        "#[Problem 9] (Advanced task) Comparison with and without standardization\n",
        "\n",
        "classifier11 = KNeighborsClassifier(n_neighbors=3)           #for 3-nn\n",
        "classifier11.fit(X_train, np.ravel(y_train, order='C'))\n",
        "\n",
        "y_pred11 = classifier11.predict(X_test)\n",
        "\n",
        "from sklearn.metrics import classification_report, confusion_matrix\n",
        "print(classification_report(y_test, y_pred11))\n",
        "print(confusion_matrix(y_test, y_pred11))"
      ],
      "execution_count": 118,
      "outputs": [
        {
          "output_type": "stream",
          "name": "stdout",
          "text": [
            "              precision    recall  f1-score   support\n",
            "\n",
            "         1.0       0.91      0.91      0.91        11\n",
            "         2.0       0.93      0.93      0.93        14\n",
            "\n",
            "    accuracy                           0.92        25\n",
            "   macro avg       0.92      0.92      0.92        25\n",
            "weighted avg       0.92      0.92      0.92        25\n",
            "\n",
            "[[10  1]\n",
            " [ 1 13]]\n"
          ]
        }
      ]
    },
    {
      "cell_type": "code",
      "metadata": {
        "colab": {
          "base_uri": "https://localhost:8080/"
        },
        "id": "_S_vWM05CDDU",
        "outputId": "2806aef3-c6cf-4a63-f18f-782f7dd48f3b"
      },
      "source": [
        "#Logistic regression\n",
        "\n",
        "lr = LogisticRegression()     #instantiating the classifier\n",
        "lr = lr.fit(X_train,np.ravel(y_train, order='C'))    #training the classifier\n",
        "y_pred_lr=lr.predict(X_test)    #prediction\n",
        "\n",
        "from sklearn.metrics import classification_report, confusion_matrix\n",
        "print(classification_report(y_test, y_pred_lr))\n",
        "print(confusion_matrix(y_test, y_pred_lr))\n"
      ],
      "execution_count": 119,
      "outputs": [
        {
          "output_type": "stream",
          "name": "stdout",
          "text": [
            "              precision    recall  f1-score   support\n",
            "\n",
            "         1.0       0.91      0.91      0.91        11\n",
            "         2.0       0.93      0.93      0.93        14\n",
            "\n",
            "    accuracy                           0.92        25\n",
            "   macro avg       0.92      0.92      0.92        25\n",
            "weighted avg       0.92      0.92      0.92        25\n",
            "\n",
            "[[10  1]\n",
            " [ 1 13]]\n"
          ]
        }
      ]
    },
    {
      "cell_type": "code",
      "metadata": {
        "colab": {
          "base_uri": "https://localhost:8080/"
        },
        "id": "rjLpcY8WCVL6",
        "outputId": "d9cb04ec-25ba-458d-afe6-36ece79bd2d0"
      },
      "source": [
        "#SVM\n",
        "\n",
        "sv = svm.SVC(kernel='linear') # Linear Kernel     instantiating the classifier\n",
        "sv = sv.fit(X_train,np.ravel(y_train, order='C'))    #training the classifier\n",
        "y_pred_sv=sv.predict(X_test)    #prediction\n",
        "\n",
        "from sklearn.metrics import classification_report, confusion_matrix\n",
        "print(classification_report(y_test, y_pred_sv))\n",
        "print(confusion_matrix(y_test, y_pred_sv))\n"
      ],
      "execution_count": 120,
      "outputs": [
        {
          "output_type": "stream",
          "name": "stdout",
          "text": [
            "              precision    recall  f1-score   support\n",
            "\n",
            "         1.0       1.00      0.91      0.95        11\n",
            "         2.0       0.93      1.00      0.97        14\n",
            "\n",
            "    accuracy                           0.96        25\n",
            "   macro avg       0.97      0.95      0.96        25\n",
            "weighted avg       0.96      0.96      0.96        25\n",
            "\n",
            "[[10  1]\n",
            " [ 0 14]]\n"
          ]
        }
      ]
    },
    {
      "cell_type": "code",
      "metadata": {
        "colab": {
          "base_uri": "https://localhost:8080/"
        },
        "id": "48e6t-LkEMxh",
        "outputId": "478dd282-b235-4961-e61a-ca90f23b1a39"
      },
      "source": [
        "#Decision tree\n",
        "\n",
        "dc = DecisionTreeClassifier() # Linear Kernel     instantiating the classifier\n",
        "dc = dc.fit(X_train,np.ravel(y_train, order='C'))    #training the classifier\n",
        "y_pred_dc=dc.predict(X_test)    #prediction\n",
        "\n",
        "from sklearn.metrics import classification_report, confusion_matrix\n",
        "print(classification_report(y_test, y_pred_dc))\n",
        "print(confusion_matrix(y_test, y_pred_dc))\n"
      ],
      "execution_count": 121,
      "outputs": [
        {
          "output_type": "stream",
          "name": "stdout",
          "text": [
            "              precision    recall  f1-score   support\n",
            "\n",
            "         1.0       0.90      0.82      0.86        11\n",
            "         2.0       0.87      0.93      0.90        14\n",
            "\n",
            "    accuracy                           0.88        25\n",
            "   macro avg       0.88      0.87      0.88        25\n",
            "weighted avg       0.88      0.88      0.88        25\n",
            "\n",
            "[[ 9  2]\n",
            " [ 1 13]]\n"
          ]
        }
      ]
    },
    {
      "cell_type": "code",
      "metadata": {
        "colab": {
          "base_uri": "https://localhost:8080/"
        },
        "id": "8zYFLg4fEeO6",
        "outputId": "105c2d2c-f9ff-4457-a194-799227b712c6"
      },
      "source": [
        "#Random Forest\n",
        "\n",
        "rf = RandomForestClassifier(n_estimators=100) # Linear Kernel     instantiating the classifier\n",
        "rf = rf.fit(X_train,np.ravel(y_train, order='C'))    #training the classifier\n",
        "y_pred_rf=rf.predict(X_test)    #prediction\n",
        "\n",
        "from sklearn.metrics import classification_report, confusion_matrix\n",
        "print(classification_report(y_test, y_pred_rf))\n",
        "print(confusion_matrix(y_test, y_pred_rf))"
      ],
      "execution_count": 123,
      "outputs": [
        {
          "output_type": "stream",
          "name": "stdout",
          "text": [
            "              precision    recall  f1-score   support\n",
            "\n",
            "         1.0       0.91      0.91      0.91        11\n",
            "         2.0       0.93      0.93      0.93        14\n",
            "\n",
            "    accuracy                           0.92        25\n",
            "   macro avg       0.92      0.92      0.92        25\n",
            "weighted avg       0.92      0.92      0.92        25\n",
            "\n",
            "[[10  1]\n",
            " [ 1 13]]\n"
          ]
        }
      ]
    },
    {
      "cell_type": "markdown",
      "metadata": {
        "id": "eOfR2vlm-_EB"
      },
      "source": [
        "**Standardization** is another scaling technique where the values are centered around the mean with a unit standard deviation. This means that the mean of the attribute becomes zero and the resultant distribution has a unit standard deviation. Standardization enables the harmonization of the feature data given the variations in their magnitude and units.\n",
        "\n"
      ]
    },
    {
      "cell_type": "code",
      "metadata": {
        "id": "xXrtRhkB_9dK"
      },
      "source": [
        "#[Problem 10] (Advance assignment) Highly accurate method using all objective variables\n",
        "\n",
        "\n",
        "\n",
        "dataframSVV = datafram2[[\"sepal length (cm)\", \"petal length (cm)\", \"Species\"]].iloc[0:150,]\n",
        "#dataframSVV.head()\n",
        "\n",
        "Xsvv = dataframSVV[[\"sepal length (cm)\", \"petal length (cm)\"]]      #extracting the X datasets (exploratory data)\n",
        "print(Xvv)\n",
        "\n",
        "ysvv = dataframSVV[[\"Species\"]]         #extracting the y datasets(objective data)\n",
        "print(ysvv)\n",
        "\n",
        "print(Xsvv.shape)\n",
        "print(ysvv.shape)"
      ],
      "execution_count": null,
      "outputs": []
    },
    {
      "cell_type": "code",
      "metadata": {
        "id": "Fu-XueKNvm4v"
      },
      "source": [
        "#performing the split of the train and test data\n",
        "\n",
        "X1_train, X1_test, y1_train, y1_test = train_test_split(Xsvv, ysvv)\n",
        "print(X1_train)\n",
        "print(X1_test)\n",
        "print(y1_train)\n",
        "print(y1_test)"
      ],
      "execution_count": null,
      "outputs": []
    },
    {
      "cell_type": "code",
      "metadata": {
        "id": "PvKtL0TKv_Ni"
      },
      "source": [
        "#Standardization process\n",
        "\n",
        "scaler11 = StandardScaler().fit(X1_train)      #transformation for the X_train datasets\n",
        "print(scaler11)\n",
        "X1_train_scaled = scaler11.transform(X1_train)\n",
        "X1_train_scaled\n",
        "\n",
        "scaler12 = StandardScaler().fit(X1_test)      #transformation for the X_test datasets\n",
        "print(scaler12)\n",
        "X1_test_scaled = scaler12.transform(X1_test)\n",
        "X1_test_scaled\n"
      ],
      "execution_count": null,
      "outputs": []
    },
    {
      "cell_type": "code",
      "metadata": {
        "colab": {
          "base_uri": "https://localhost:8080/"
        },
        "id": "lAc6qf5Nz4_v",
        "outputId": "b47bf323-d7c5-44ef-cbaa-ed6468ba7166"
      },
      "source": [
        "#performing classification         \n",
        "\n",
        "#Random Forest\n",
        "\n",
        "rf = RandomForestClassifier(n_estimators=100) # Linear Kernel     instantiating the classifier\n",
        "rf = rf.fit(X1_train_scaled,np.ravel(y1_train, order='C'))    #training the classifier\n",
        "y1_pred_rf=rf.predict(X1_test_scaled)    #prediction\n",
        "\n",
        "from sklearn.metrics import classification_report, confusion_matrix\n",
        "print(classification_report(y1_test, y1_pred_rf))\n",
        "print(confusion_matrix(y1_test, y1_pred_rf))"
      ],
      "execution_count": 146,
      "outputs": [
        {
          "output_type": "stream",
          "name": "stdout",
          "text": [
            "              precision    recall  f1-score   support\n",
            "\n",
            "         0.0       1.00      1.00      1.00        10\n",
            "         1.0       0.61      1.00      0.76        11\n",
            "         2.0       1.00      0.59      0.74        17\n",
            "\n",
            "    accuracy                           0.82        38\n",
            "   macro avg       0.87      0.86      0.83        38\n",
            "weighted avg       0.89      0.82      0.81        38\n",
            "\n",
            "[[10  0  0]\n",
            " [ 0 11  0]\n",
            " [ 0  7 10]]\n"
          ]
        }
      ]
    },
    {
      "cell_type": "code",
      "metadata": {
        "id": "Jut44I0-2C_e"
      },
      "source": [
        "import matplotlib.pyplot as plt\n",
        "from matplotlib.colors import ListedColormap\n",
        "import matplotlib.patches as mpatches\n",
        "def decision_region1(X, y, model, step=0.01, title='decision region', xlabel='xlabel', ylabel='ylabel', target_names=['setosa','versicolor', 'virginica']):\n",
        "    \"\"\"\n",
        "    Draw the determination area of the model that learned binary classification with two-dimensional features.\n",
        "    The background color is drawn from the estimated values of the trained model.\n",
        "    The points on the scatter plot are training or validation data.\n",
        "    Parameters\n",
        "    ----------------\n",
        "    X : ndarray, shape(n_samples, 2)\n",
        "        Feature value\n",
        "    y : ndarray, shape(n_samples,)\n",
        "        label\n",
        "    model : object\n",
        "        Insert the installed model of the learned model\n",
        "    step : float, (default : 0.1)\n",
        "        Set the interval to calculate the estimate\n",
        "    title : str\n",
        "        Give the text of the graph Title\n",
        "    xlabel, ylabel : str\n",
        "        Give the text of the axis label\n",
        "    target_names= : list of str\n",
        "        Give a list of legends\n",
        "    \"\"\"\n",
        "    # setting\n",
        "    scatter_color = ['green','red', 'blue']\n",
        "    contourf_color = ['springgreen','pink', 'skyblue']\n",
        "    n_class = 2\n",
        "    # pred\n",
        "    mesh_f0, mesh_f1 = np.meshgrid(np.arange(np.min(X[:,0])-0.5, np.max(X[:,0])+0.5, step), np.arange(np.min(X[:,1])-0.5, np.max(X[:,1])+0.5, step))\n",
        "    mesh = np.c_[np.ravel(mesh_f0),np.ravel(mesh_f1)]\n",
        "    y_pred = model.predict(mesh).reshape(mesh_f1.shape)\n",
        "    # plot\n",
        "    plt.title(title)\n",
        "    plt.xlabel(xlabel)\n",
        "    plt.ylabel(ylabel)\n",
        "    plt.contourf(mesh_f0, mesh_f1, y_pred, n_class-1, cmap=ListedColormap(contourf_color))\n",
        "    plt.contour(mesh_f0, mesh_f1, y_pred, n_class-1, colors='y', linewidths=3, alpha=0.5)\n",
        "    for i, target in enumerate(np.unique(y)):\n",
        "        plt.scatter(X[y==target][:, 0], X[y==target][:, 1], s=80, color=scatter_color[i], label=target_names[i], marker='o')\n",
        "    patches = [mpatches.Patch(color=scatter_color[i], label=target_names[i]) for i in range(n_class)]\n",
        "    plt.legend(handles=patches)\n",
        "    plt.legend()\n",
        "    plt.show()"
      ],
      "execution_count": 171,
      "outputs": []
    },
    {
      "cell_type": "code",
      "metadata": {
        "colab": {
          "base_uri": "https://localhost:8080/",
          "height": 295
        },
        "id": "udDjvjac1C--",
        "outputId": "2b1f83f6-7935-4979-f7a6-c8c8e53e2696"
      },
      "source": [
        "decision_region1(X1_train_scaled, np.ravel(y1_train, order='C'), rf, step=0.01, title='decision region of random forest', xlabel='sepal_length', ylabel='petal_length', target_names=['setosa','versicolor', 'virginica'])"
      ],
      "execution_count": 172,
      "outputs": [
        {
          "output_type": "display_data",
          "data": {
            "image/png": "[encoded data removed]",
            "text/plain": [
              "<Figure size 432x288 with 1 Axes>"
            ]
          },
          "metadata": {
            "needs_background": "light"
          }
        }
      ]
    }
  ]
}