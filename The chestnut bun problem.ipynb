{
  "nbformat": 4,
  "nbformat_minor": 0,
  "metadata": {
    "colab": {
      "name": "Untitled3.ipynb",
      "provenance": [],
      "authorship_tag": "ABX9TyO1JoUz5Ltg2BxJ//HE+7Wk",
      "include_colab_link": true
    },
    "kernelspec": {
      "name": "python3",
      "display_name": "Python 3"
    },
    "language_info": {
      "name": "python"
    }
  },
  "cells": [
    {
      "cell_type": "markdown",
      "metadata": {
        "id": "view-in-github",
        "colab_type": "text"
      },
      "source": [
        "<a href=\"https://colab.research.google.com/github/lusekelok/diveintocode-ml/blob/master/The%20chestnut%20bun%20problem.ipynb\" target=\"_parent\"><img src=\"https://colab.research.google.com/assets/colab-badge.svg\" alt=\"Open In Colab\"/></a>"
      ]
    },
    {
      "cell_type": "code",
      "metadata": {
        "colab": {
          "base_uri": "https://localhost:8080/"
        },
        "id": "0E1eagBUJqPi",
        "outputId": "becbd8ec-84d4-4d6a-aa91-139cdc35e8d0"
      },
      "source": [
        "# [Problem] The day when chestnut buns cover the solar system\n",
        "\n",
        "chest_radius = 3.5   #assumed radius of spherical chestnut bun\n",
        "solar_radius = 144 * 10**12 #assumed solar system radius \n",
        "y_list = []\n",
        "x_list = []\n",
        "x = 0\n",
        "\n",
        "while chest_radius < solar_radius:      \n",
        "      chest_radius = chest_radius * 2\n",
        "      if chest_radius > solar_radius:   #volume of sphere is given by: 4/3*pi*radius**3, therefore, it is similar to comparing the radi of the two spheres\n",
        "        break\n",
        "      y_list.append(chest_radius)       #list of radius for chestnut bun\n",
        "      x = x + 5\n",
        "      x_list.append(x)                  #list of every 5 minutes for doubling size\n",
        "print (\"It will take {} minutes to cover solar system\" .format(x))\n",
        "print(x)\n",
        "print (y_list)\n",
        "print (x_list)\n"
      ],
      "execution_count": 4,
      "outputs": [
        {
          "output_type": "stream",
          "text": [
            "It will take 225 minutes to cover solar system\n",
            "225\n",
            "[7.0, 14.0, 28.0, 56.0, 112.0, 224.0, 448.0, 896.0, 1792.0, 3584.0, 7168.0, 14336.0, 28672.0, 57344.0, 114688.0, 229376.0, 458752.0, 917504.0, 1835008.0, 3670016.0, 7340032.0, 14680064.0, 29360128.0, 58720256.0, 117440512.0, 234881024.0, 469762048.0, 939524096.0, 1879048192.0, 3758096384.0, 7516192768.0, 15032385536.0, 30064771072.0, 60129542144.0, 120259084288.0, 240518168576.0, 481036337152.0, 962072674304.0, 1924145348608.0, 3848290697216.0, 7696581394432.0, 15393162788864.0, 30786325577728.0, 61572651155456.0, 123145302310912.0]\n",
            "[5, 10, 15, 20, 25, 30, 35, 40, 45, 50, 55, 60, 65, 70, 75, 80, 85, 90, 95, 100, 105, 110, 115, 120, 125, 130, 135, 140, 145, 150, 155, 160, 165, 170, 175, 180, 185, 190, 195, 200, 205, 210, 215, 220, 225]\n"
          ],
          "name": "stdout"
        }
      ]
    },
    {
      "cell_type": "code",
      "metadata": {
        "colab": {
          "base_uri": "https://localhost:8080/"
        },
        "id": "501tIXOTRDxn",
        "outputId": "b2ecf507-8328-47a2-cfe0-baeb3648ecbb"
      },
      "source": [
        "def calculate_time_small_object_fills_big_object (small_vol, big_vol):\n",
        "#chest_radius = 3.5   #assumed radius of spherical chestnut bun\n",
        "#solar_radius = 144 * 10**12 #assumed solar system radius \n",
        "  y1_list = []\n",
        "  x1_list = []\n",
        "  x1 = 0\n",
        "  while small_vol < big_vol:      \n",
        "      small_vol = small_vol * 2\n",
        "      if small_vol > big_vol:   #volume of sphere is given by: 4/3*pi*radius**3, therefore, it is similar to comparing the radi of the two spheres\n",
        "        break\n",
        "      y1_list.append(small_vol)       #list of radius for chestnut bun\n",
        "      x1 = x1 + 5\n",
        "      x1_list.append(x1)                  #list of every 5 minutes for doubling size\n",
        "  return x1\n",
        "print (\"It will take {} minutes to cover solar system\" .format(calculate_time_small_object_fills_big_object (3.5, 144000000000000)))\n",
        "#print(x1)\n",
        "#print (y1_list)\n",
        "#print (x1_list)"
      ],
      "execution_count": 15,
      "outputs": [
        {
          "output_type": "stream",
          "text": [
            "It will take 225 minutes to cover solar system\n"
          ],
          "name": "stdout"
        }
      ]
    },
    {
      "cell_type": "code",
      "metadata": {
        "colab": {
          "base_uri": "https://localhost:8080/",
          "height": 295
        },
        "id": "qpEHt3rLQlhq",
        "outputId": "4272c81f-4be3-43ce-d683-7fa9fa10b971"
      },
      "source": [
        "#Graphing the doubling function\n",
        "import matplotlib.pyplot as plt\n",
        "%matplotlib inline\n",
        "\n",
        "# line 1 points\n",
        "x1 = x_list\n",
        "y1 = y_list\n",
        "# plotting the line 1 points \n",
        "plt.plot(x1, y1, label = \"Line of doubling object size\")\n",
        "  \n",
        "  \n",
        "# naming the x axis\n",
        "plt.xlabel('Time in minutes (intervals of 5 mins)')\n",
        "# naming the y axis\n",
        "plt.ylabel('Size of object')\n",
        "# giving a title to my graph\n",
        "plt.title('Graph of doubling of small object against time')\n",
        "  \n",
        "# show a legend on the plot\n",
        "plt.legend()\n",
        "  \n",
        "# function to show the plot\n",
        "plt.show()"
      ],
      "execution_count": 13,
      "outputs": [
        {
          "output_type": "display_data",
          "data": {
            "image/png": "[encoded data removed]",
            "text/plain": [
              "<Figure size 432x288 with 1 Axes>"
            ]
          },
          "metadata": {
            "tags": [],
            "needs_background": "light"
          }
        }
      ]
    }
  ]
}