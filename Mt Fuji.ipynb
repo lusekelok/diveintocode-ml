{
  "nbformat": 4,
  "nbformat_minor": 0,
  "metadata": {
    "colab": {
      "name": "Untitled2.ipynb",
      "provenance": [],
      "authorship_tag": "ABX9TyOp+wZH201SfowjToNHBDCd",
      "include_colab_link": true
    },
    "kernelspec": {
      "name": "python3",
      "display_name": "Python 3"
    },
    "language_info": {
      "name": "python"
    }
  },
  "cells": [
    {
      "cell_type": "markdown",
      "metadata": {
        "id": "view-in-github",
        "colab_type": "text"
      },
      "source": [
        "<a href=\"https://colab.research.google.com/github/lusekelok/diveintocode-ml/blob/master/Mt%20Fuji.ipynb\" target=\"_parent\"><img src=\"https://colab.research.google.com/assets/colab-badge.svg\" alt=\"Open In Colab\"/></a>"
      ]
    },
    {
      "cell_type": "code",
      "metadata": {
        "colab": {
          "base_uri": "https://localhost:8080/"
        },
        "id": "aa1hd-aCRafn",
        "outputId": "ef36b688-f29a-4275-b23b-b697ab97af19"
      },
      "source": [
        "##[Problem 1] How many times to fold paper to exceed the height of Mt.Fuji? = 3776m\n",
        "\n",
        "THICKNESS0 = 0.00008\n",
        "\n",
        "def number_of_times_to_foldpaper(desired_thickness, THICKNESS0 = 0.00008):\n",
        "  import math\n",
        "  x = desired_thickness / THICKNESS0\n",
        "  no_paper_folds = math.log ( x , 2)    #this is derived by making n, in tn = to * 2**n, the subject \n",
        "  return no_paper_folds\n",
        "print (\"The desired number of folds is: {} paper folds\" .format(number_of_times_to_foldpaper(3776.0)))"
      ],
      "execution_count": 27,
      "outputs": [
        {
          "output_type": "stream",
          "text": [
            "The desired number of folds is: 25.492283523798655 paper folds\n"
          ],
          "name": "stdout"
        }
      ]
    },
    {
      "cell_type": "code",
      "metadata": {
        "colab": {
          "base_uri": "https://localhost:8080/"
        },
        "id": "ayKdDqxcpTIu",
        "outputId": "0d1b45e4-a024-42e5-e805-27ea6ddf186c"
      },
      "source": [
        "# [Problem 2] Function corresponding to arbitrary thickness\n",
        "\n",
        "print (\"The number of folds to the nearest non-sun star, Proxima Centauri, is: {} paper folds\" .format(number_of_times_to_foldpaper(40175000000000000)))"
      ],
      "execution_count": 28,
      "outputs": [
        {
          "output_type": "stream",
          "text": [
            "The number of folds to the nearest non-sun star, Proxima Centauri, is: 68.76678801653497 paper folds\n"
          ],
          "name": "stdout"
        }
      ]
    },
    {
      "cell_type": "code",
      "metadata": {
        "colab": {
          "base_uri": "https://localhost:8080/"
        },
        "id": "UE6PYsbAtIv1",
        "outputId": "a06e61ad-ac48-4585-d6a0-6edf32b1a40f"
      },
      "source": [
        "# [Problem 3] Required paper length\n",
        "\n",
        "def calculate_length_of_paper (no_folds1):    #new function for calculating the length of paper\n",
        "  import math\n",
        "  L = math.pi * THICKNESS0/6 * (pow (2,no_folds1) + 4) * (pow(2,no_folds1) - 1)\n",
        "  return L\n",
        "\n",
        "print (\"The length of paper to reach Mt Fuji is: {} meters\" . format (calculate_length_of_paper (number_of_times_to_foldpaper(3776))))  #call function to calculate number of folds required for desired thickness for input to obtain the desired length of paper\n",
        "print (\"The length of paper to reach nearest sun star is: {} meters\" . format (calculate_length_of_paper (68.76678801653497)))\n",
        "print (\"The length of paper to reach the moon: {} meters\" . format (calculate_length_of_paper (number_of_times_to_foldpaper(384400000))))"
      ],
      "execution_count": 35,
      "outputs": [
        {
          "output_type": "stream",
          "text": [
            "The length of paper to reach Mt Fuji is: 93319549629.64012 meters\n",
            "The length of paper to reach nearest sun star is: 1.0563805737851905e+37 meters\n",
            "The length of paper to reach the moon: 9.671089296792426e+20 meters\n"
          ],
          "name": "stdout"
        }
      ]
    }
  ]
}