{
  "nbformat": 4,
  "nbformat_minor": 0,
  "metadata": {
    "colab": {
      "name": "Untitled6.ipynb",
      "provenance": [],
      "authorship_tag": "ABX9TyMXumlpygn6fn+UsMac/4fU",
      "include_colab_link": true
    },
    "kernelspec": {
      "name": "python3",
      "display_name": "Python 3"
    },
    "language_info": {
      "name": "python"
    }
  },
  "cells": [
    {
      "cell_type": "markdown",
      "metadata": {
        "id": "view-in-github",
        "colab_type": "text"
      },
      "source": [
        "<a href=\"https://colab.research.google.com/github/lusekelok/diveintocode-ml/blob/master/Implementation%20of%20matrix%20product.ipynb\" target=\"_parent\"><img src=\"https://colab.research.google.com/assets/colab-badge.svg\" alt=\"Open In Colab\"/></a>"
      ]
    },
    {
      "cell_type": "code",
      "metadata": {
        "id": "M0jLLkoJYN82"
      },
      "source": [
        "#Matrix product\n",
        "\n",
        "import numpy as np\n",
        "a_ndarray = np.array([[-1, 2, 3], [4, -5, 6], [7, 8, -9]])\n",
        "b_ndarray = np.array([[0, 2, 1], [0, 2, -8], [2, 9, -1]])"
      ],
      "execution_count": 1,
      "outputs": []
    },
    {
      "cell_type": "code",
      "metadata": {
        "id": "ss4YBx9LdkxJ"
      },
      "source": [
        "#[Problem 1] Matrix product is calculated manually"
      ],
      "execution_count": 2,
      "outputs": []
    },
    {
      "cell_type": "markdown",
      "metadata": {
        "id": "2s7_JAsna_A5"
      },
      "source": [
        "The product of two matrices can be computed by multiplying elements of the first row of the first matrix with the first column of the second matrix then, add all the product of elements. Continue this process until each row of the first matrix is multiplied with each column of the second matrix."
      ]
    },
    {
      "cell_type": "code",
      "metadata": {
        "colab": {
          "base_uri": "https://localhost:8080/"
        },
        "id": "QwUMID9TbJ4e",
        "outputId": "fb0751f6-8203-4521-b4f0-d198bc1a7a69"
      },
      "source": [
        "#[Problem 2] Calculation by NumPy function\n",
        "\n",
        "#using matmul()\n",
        "mat_product = np.matmul(a_ndarray, b_ndarray)\n",
        "mat_product"
      ],
      "execution_count": 3,
      "outputs": [
        {
          "output_type": "execute_result",
          "data": {
            "text/plain": [
              "array([[  6,  29, -20],\n",
              "       [ 12,  52,  38],\n",
              "       [-18, -51, -48]])"
            ]
          },
          "metadata": {
            "tags": []
          },
          "execution_count": 3
        }
      ]
    },
    {
      "cell_type": "code",
      "metadata": {
        "colab": {
          "base_uri": "https://localhost:8080/"
        },
        "id": "cwTQeZgauqQO",
        "outputId": "9557ade0-0125-4a7a-8612-41f1bba25212"
      },
      "source": [
        "#using dot()\n",
        "mat_product1 = np.dot(a_ndarray, b_ndarray)\n",
        "mat_product1"
      ],
      "execution_count": 4,
      "outputs": [
        {
          "output_type": "execute_result",
          "data": {
            "text/plain": [
              "array([[  6,  29, -20],\n",
              "       [ 12,  52,  38],\n",
              "       [-18, -51, -48]])"
            ]
          },
          "metadata": {
            "tags": []
          },
          "execution_count": 4
        }
      ]
    },
    {
      "cell_type": "code",
      "metadata": {
        "colab": {
          "base_uri": "https://localhost:8080/"
        },
        "id": "FGBsHc43vK52",
        "outputId": "686b03a6-4a08-49ce-ded4-55f3ae88a7b9"
      },
      "source": [
        "# using @\n",
        "mat_product2 = a_ndarray @ b_ndarray\n",
        "mat_product2"
      ],
      "execution_count": 5,
      "outputs": [
        {
          "output_type": "execute_result",
          "data": {
            "text/plain": [
              "array([[  6,  29, -20],\n",
              "       [ 12,  52,  38],\n",
              "       [-18, -51, -48]])"
            ]
          },
          "metadata": {
            "tags": []
          },
          "execution_count": 5
        }
      ]
    },
    {
      "cell_type": "code",
      "metadata": {
        "colab": {
          "base_uri": "https://localhost:8080/"
        },
        "id": "JQSjs2TPEbZu",
        "outputId": "6065357c-7033-47ed-ae42-9dd408074857"
      },
      "source": [
        "#[Problem 3] Implementation of calculation of a certain element & #[Problem 4] Creating a function that performs matrix multiplication\n",
        "\n",
        "# Program to multiply two matrices using nested loops\n",
        "  \n",
        "# take a 3x3 matrix\n",
        "\n",
        "def multi_matrix(A,B):\n",
        "  result = np.array([[0, 0, 0, 0],[0, 0, 0, 0],[0, 0, 0, 0]])  \n",
        "# iterating by row of A\n",
        "  for i in range(len(A)):\n",
        "  \n",
        "    # iterating by coloum by B \n",
        "      for j in range(len(B[0])):\n",
        "  \n",
        "        # iterating by rows of B\n",
        "          for k in range(len(B)):\n",
        "              result[i][j] += A[i][k] * B[k][j]\n",
        "  \n",
        "  for r in result:\n",
        "    print (r)\n",
        "\n",
        "multi_matrix([[12,7,3],[4,5,6],[7,8,9]], [[5,8,1,2],[6,7,3,0],[4,5,9,1]])"
      ],
      "execution_count": 6,
      "outputs": [
        {
          "output_type": "stream",
          "text": [
            "[114 160  60  27]\n",
            "[74 97 73 14]\n",
            "[119 157 112  23]\n"
          ],
          "name": "stdout"
        }
      ]
    },
    {
      "cell_type": "code",
      "metadata": {
        "colab": {
          "base_uri": "https://localhost:8080/"
        },
        "id": "FhMwvoQG5vxi",
        "outputId": "a1fa09b0-663c-4232-9277-bd9e87b14a63"
      },
      "source": [
        "#[Problem 5] Judge the input whose calculation is not defined\n",
        "\n",
        "def multi_matrix1(A,B):\n",
        "  if len(A) == len(B[0]):\n",
        "    result = np.array([[0, 0, 0, 0],[0, 0, 0, 0],[0, 0, 0, 0]])  \n",
        "# iterating by row of A\n",
        "    for i in range(len(A)):\n",
        "  \n",
        "    # iterating by coloum by B \n",
        "        for j in range(len(B[0])):\n",
        "  \n",
        "        # iterating by rows of B\n",
        "            for k in range(len(B)):\n",
        "                result[i][j] += A[i][k] * B[k][j]\n",
        "  \n",
        "    for r in result:\n",
        "      print (r)\n",
        "  else:\n",
        "      print (\"Not defined\")\n",
        "\n",
        "d_ndarray = np.array([[-1, 2, 3], [4, -5, 6]])\n",
        "e_ndarray = np.array([[-9, 8, 7], [6, -5, 4]])\n",
        "multi_matrix1(d_ndarray, e_ndarray)"
      ],
      "execution_count": 9,
      "outputs": [
        {
          "output_type": "stream",
          "text": [
            "Not defined\n"
          ],
          "name": "stdout"
        }
      ]
    },
    {
      "cell_type": "code",
      "metadata": {
        "colab": {
          "base_uri": "https://localhost:8080/"
        },
        "id": "BJlDTwbgBCIz",
        "outputId": "adfd1191-cc9a-493c-9908-919d861ceae3"
      },
      "source": [
        "#[Problem 6] Transposition\n",
        "e_ndarrayT = np.transpose(e_ndarray)\n",
        "print(e_ndarrayT)\n",
        "multi_matrix1(d_ndarray, e_ndarrayT)"
      ],
      "execution_count": 10,
      "outputs": [
        {
          "output_type": "stream",
          "text": [
            "[[-9  6]\n",
            " [ 8 -5]\n",
            " [ 7  4]]\n",
            "[46 -4  0  0]\n",
            "[-34  73   0   0]\n",
            "[0 0 0 0]\n"
          ],
          "name": "stdout"
        }
      ]
    }
  ]
}