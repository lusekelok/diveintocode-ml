{
  "nbformat": 4,
  "nbformat_minor": 0,
  "metadata": {
    "colab": {
      "name": "Untitled0.ipynb",
      "provenance": [],
      "collapsed_sections": [],
      "authorship_tag": "ABX9TyPUh14g7Ceg36iiW0BbO9pH",
      "include_colab_link": true
    },
    "kernelspec": {
      "name": "python3",
      "display_name": "Python 3"
    },
    "language_info": {
      "name": "python"
    }
  },
  "cells": [
    {
      "cell_type": "markdown",
      "metadata": {
        "id": "view-in-github",
        "colab_type": "text"
      },
      "source": [
        "<a href=\"https://colab.research.google.com/github/lusekelok/diveintocode-ml/blob/master/Assignment2.ipynb\" target=\"_parent\"><img src=\"https://colab.research.google.com/assets/colab-badge.svg\" alt=\"Open In Colab\"/></a>"
      ]
    },
    {
      "cell_type": "code",
      "metadata": {
        "colab": {
          "base_uri": "https://localhost:8080/"
        },
        "id": "tB1Q_tBY9QHE",
        "outputId": "3a684ca1-a194-4fbb-c7fd-e9597a5edcdb"
      },
      "source": [
        "##[Problem 1] Implementation using exponentiation arithmetic operators\n",
        "\n",
        "THICKNESS = 0.00008\n",
        "\n",
        "def paper_thickness_calculator(num_folds, THICKNESS0 = 0.00008):\n",
        "  folded_thickness = THICKNESS0 * (2**num_folds)\n",
        "  return folded_thickness\n",
        "print (\"Thickness: {} metres\" .format(paper_thickness_calculator(43)))"
      ],
      "execution_count": 2,
      "outputs": [
        {
          "output_type": "stream",
          "text": [
            "Thickness: 703687441.77664 metres\n"
          ],
          "name": "stdout"
        }
      ]
    },
    {
      "cell_type": "code",
      "metadata": {
        "colab": {
          "base_uri": "https://localhost:8080/"
        },
        "id": "28aHb2xjkmd7",
        "outputId": "f0d69752-50a6-4d0d-a93a-5f25473cf698"
      },
      "source": [
        "##[Problem 2] Unit Conversion\n",
        "\n",
        "THICKNESS = 0.00008\n",
        "\n",
        "def paper_thickness_calculator(num_folds, THICKNESS0 = 0.00008):\n",
        "  folded_thickness = THICKNESS0 * (2**num_folds)\n",
        "  return folded_thickness\n",
        "print (\"Thickness: {: .2f} kilometres\" .format(paper_thickness_calculator(43) / 1000))"
      ],
      "execution_count": 5,
      "outputs": [
        {
          "output_type": "stream",
          "text": [
            "Thickness:  703687.44 kilometres\n"
          ],
          "name": "stdout"
        }
      ]
    },
    {
      "cell_type": "code",
      "metadata": {
        "colab": {
          "base_uri": "https://localhost:8080/"
        },
        "id": "J8Fk6tSClRF4",
        "outputId": "772f6f35-2bbb-4d9d-eb01-1d07abd3d0d6"
      },
      "source": [
        "if paper_thickness_calculator(43) > 384400:\n",
        "  print(\"Folded paper has reached the moon.\")\n",
        "else:\n",
        "  print(\"Folded paper has not reached the moon.\")"
      ],
      "execution_count": 39,
      "outputs": [
        {
          "output_type": "stream",
          "text": [
            "Folded paper has reached the moon.\n"
          ],
          "name": "stdout"
        }
      ]
    },
    {
      "cell_type": "code",
      "metadata": {
        "id": "afxTfHKVqKia"
      },
      "source": [
        "##[Problem 3] Create using a for statement\n",
        "\n",
        "def raise_to_the_power(base, power):\n",
        "  pow=1\n",
        "  for i in range(1, power + 1):\n",
        "    pow =pow * base   \n",
        "  return pow\n",
        "##raise_to_the_power(2,3)"
      ],
      "execution_count": 73,
      "outputs": []
    },
    {
      "cell_type": "code",
      "metadata": {
        "colab": {
          "base_uri": "https://localhost:8080/"
        },
        "id": "XA8FJRkAafw2",
        "outputId": "b21bcf85-a08c-4625-d62a-68020407ac6d"
      },
      "source": [
        "THICKNESS0 = 0.00008\n",
        "\n",
        "def paper_thickness_calculator1(num_folds1, THICKNESS0 = 0.00008):\n",
        "  folded_thickness1 = THICKNESS0 * (raise_to_the_power(2 , num_folds1))\n",
        "  return folded_thickness1\n",
        "print (\"Thickness: {} metres\" .format(paper_thickness_calculator1(43)))"
      ],
      "execution_count": 40,
      "outputs": [
        {
          "output_type": "stream",
          "text": [
            "Thickness: 703687441.77664 metres\n"
          ],
          "name": "stdout"
        }
      ]
    },
    {
      "cell_type": "code",
      "metadata": {
        "colab": {
          "base_uri": "https://localhost:8080/"
        },
        "id": "FZ7y-hHsJ9uI",
        "outputId": "6822e897-9ef8-44c1-cceb-e4517b8cdcba"
      },
      "source": [
        "THICKNESS0 = 0.00008\n",
        "\n",
        "def paper_thickness_calculator1(num_folds1, THICKNESS0 = 0.00008):\n",
        "  folded_thickness1 = THICKNESS0 * (raise_to_the_power(2 , num_folds1))\n",
        "  return folded_thickness1\n",
        "print (\"Thickness: {: .2f} kilometres\" .format(paper_thickness_calculator1(43) / 1000))"
      ],
      "execution_count": 32,
      "outputs": [
        {
          "output_type": "stream",
          "text": [
            "Thickness:  703687.44 kilometres\n"
          ],
          "name": "stdout"
        }
      ]
    },
    {
      "cell_type": "code",
      "metadata": {
        "colab": {
          "base_uri": "https://localhost:8080/"
        },
        "id": "34otiaSXK3xj",
        "outputId": "559601d7-0c60-421d-94e1-b9b171e365f7"
      },
      "source": [
        "##[Problem 4] Comparison of calculation time\n",
        "\n",
        "import time\n",
        "start = time.time()\n",
        "THICKNESS = 0.00008\n",
        "\n",
        "def paper_thickness_calculator(x, THICKNESS0 = 0.00008):\n",
        "  folded_thickness = THICKNESS0 * (2**x)\n",
        "  return folded_thickness\n",
        "print (\"Thickness: {: .2f} kilometres\" .format(paper_thickness_calculator(100) / 1000))\n",
        "elapsed_time = time.time() - start\n",
        "print(\"time : {}[s]\".format(elapsed_time))"
      ],
      "execution_count": 47,
      "outputs": [
        {
          "output_type": "stream",
          "text": [
            "Thickness:  101412048018258354241536.00 kilometres\n",
            "time : 0.0003757476806640625[s]\n"
          ],
          "name": "stdout"
        }
      ]
    },
    {
      "cell_type": "code",
      "metadata": {
        "colab": {
          "base_uri": "https://localhost:8080/"
        },
        "id": "73uSMmsHLAGl",
        "outputId": "59d2c68d-cf70-4184-cf28-180804cc45b8"
      },
      "source": [
        "import time\n",
        "start = time.time()\n",
        "THICKNESS0 = 0.00008\n",
        "\n",
        "def paper_thickness_calculator1(num_folds1, THICKNESS0 = 0.00008):\n",
        "  folded_thickness1 = THICKNESS0 * (raise_to_the_power(2 , num_folds1))\n",
        "  return folded_thickness1\n",
        "print (\"Thickness: {: .2f} kilometres\" .format(paper_thickness_calculator1(100) / 1000))\n",
        "elapsed_time = time.time() - start\n",
        "print(\"time : {}[s]\".format(elapsed_time))"
      ],
      "execution_count": 48,
      "outputs": [
        {
          "output_type": "stream",
          "text": [
            "Thickness:  101412048018258354241536.00 kilometres\n",
            "time : 0.0011665821075439453[s]\n"
          ],
          "name": "stdout"
        }
      ]
    },
    {
      "cell_type": "code",
      "metadata": {
        "id": "aZ2zTZHVMi_d"
      },
      "source": [
        "%%timeit\n",
        "THICKNESS = 0.00008\n",
        "\n",
        "def paper_thickness_calculator(x, THICKNESS = 0.00008):\n",
        "  folded_thickness = THICKNESS * (2**x)\n",
        "  return folded_thickness\n",
        "print (\"Thickness: {: .2f} kilometres\" .format(paper_thickness_calculator(43) / 1000))"
      ],
      "execution_count": null,
      "outputs": []
    },
    {
      "cell_type": "code",
      "metadata": {
        "id": "Mic6qb7fNkwr"
      },
      "source": [
        "%%timeit\n",
        "THICKNESS0 = 0.00008\n",
        "\n",
        "def paper_thickness_calculator1(num_folds1, THICKNESS0 = 0.00008):\n",
        "  folded_thickness1 = THICKNESS0 * (raise_to_the_power(2 , num_folds1))\n",
        "  return folded_thickness1\n",
        "print (\"Thickness: {: .2f} kilometres\" .format(paper_thickness_calculator1(43) / 1000))"
      ],
      "execution_count": null,
      "outputs": []
    },
    {
      "cell_type": "code",
      "metadata": {
        "colab": {
          "base_uri": "https://localhost:8080/"
        },
        "id": "XhCk4txEXiuh",
        "outputId": "eb457fb3-ff17-4ac1-b4d2-688436e22bb9"
      },
      "source": [
        "##[Problem 5] Saving to a list\n",
        "\n",
        "def thickness_plot(num_folds2):\n",
        "  thickness_outputs = []\n",
        "  for i in range(1, num_folds2):\n",
        "  ##print(len(range(1,44)))\n",
        "    thickness_outputs.append(paper_thickness_calculator(i))\n",
        "  return thickness_outputs\n",
        "print (thickness_plot(44))"
      ],
      "execution_count": 6,
      "outputs": [
        {
          "output_type": "stream",
          "text": [
            "[0.00016, 0.00032, 0.00064, 0.00128, 0.00256, 0.00512, 0.01024, 0.02048, 0.04096, 0.08192, 0.16384, 0.32768, 0.65536, 1.31072, 2.62144, 5.24288, 10.48576, 20.97152, 41.94304, 83.88608, 167.77216, 335.54432, 671.08864, 1342.17728, 2684.35456, 5368.70912, 10737.41824, 21474.83648, 42949.67296, 85899.34592, 171798.69184, 343597.38368, 687194.76736, 1374389.53472, 2748779.06944, 5497558.13888, 10995116.27776, 21990232.55552, 43980465.11104, 87960930.22208, 175921860.44416, 351843720.88832, 703687441.77664]\n"
          ],
          "name": "stdout"
        }
      ]
    },
    {
      "cell_type": "code",
      "metadata": {
        "colab": {
          "base_uri": "https://localhost:8080/",
          "height": 295
        },
        "id": "Ph3puTNipV0_",
        "outputId": "3e0de2c7-83a3-4480-bc55-79ff47a331a0"
      },
      "source": [
        "##[Problem 6] Displaying a line graph\n",
        "\n",
        "import matplotlib.pyplot as plt\n",
        "%matplotlib inline\n",
        "# Display the graph. Title and axis label name.\n",
        "plt.title(\"thickness of folded paper\")\n",
        "plt.xlabel(\"number of folds\")\n",
        "plt.ylabel(\"thickness [m]\")\n",
        "plt.plot(thickness_plot(44))  # Enter the variable name of the list in \"List name\"\n",
        "plt.show()"
      ],
      "execution_count": 7,
      "outputs": [
        {
          "output_type": "display_data",
          "data": {
            "image/png": "[encoded data removed]",
            "text/plain": [
              "<Figure size 432x288 with 1 Axes>"
            ]
          },
          "metadata": {
            "tags": [],
            "needs_background": "light"
          }
        }
      ]
    },
    {
      "cell_type": "markdown",
      "metadata": {
        "id": "0YngNXub3Zn9"
      },
      "source": [
        "The graph is fasting increasing i.e. it is an exponential graph and rapidly expanding."
      ]
    },
    {
      "cell_type": "code",
      "metadata": {
        "colab": {
          "base_uri": "https://localhost:8080/",
          "height": 295
        },
        "id": "0V_itbM-5XFD",
        "outputId": "76a89f6e-0729-4ac5-ca4b-9ad72cf0d8ac"
      },
      "source": [
        "##[Problem 7] Customizing graphs\n",
        "\n",
        "import matplotlib.pyplot as plt\n",
        "%matplotlib inline\n",
        "# Display the graph. Title and axis label name.\n",
        "plt.title(\"thickness of folded paper\")\n",
        "plt.xlabel(\"number of folds\")\n",
        "plt.ylabel(\"thickness [m]\")\n",
        "plt.plot(thickness_plot(44), color = 'red')  # Enter the variable name of the list in \"List name\" with red line\n",
        "plt.show()"
      ],
      "execution_count": 132,
      "outputs": [
        {
          "output_type": "display_data",
          "data": {
            "image/png": "[encoded data removed]",
            "text/plain": [
              "<Figure size 432x288 with 1 Axes>"
            ]
          },
          "metadata": {
            "tags": [],
            "needs_background": "light"
          }
        }
      ]
    },
    {
      "cell_type": "code",
      "metadata": {
        "colab": {
          "base_uri": "https://localhost:8080/",
          "height": 304
        },
        "id": "kYFtjKC77cQb",
        "outputId": "1fa3e553-20fe-4e23-a088-e28c3e10418a"
      },
      "source": [
        "# Display the axis value in large size.\n",
        "plt.title(\"thickness of folded paper\")\n",
        "plt.xlabel(\"number of folds\")\n",
        "plt.ylabel(\"thickness[m]\")\n",
        "plt.tick_params(labelsize=20) # Make settings related to axis values\n",
        "plt.plot(thickness_plot(44))\n",
        "plt.show()\n",
        "\n"
      ],
      "execution_count": 145,
      "outputs": [
        {
          "output_type": "display_data",
          "data": {
            "image/png": "[encoded data removed]",
            "text/plain": [
              "<Figure size 432x288 with 1 Axes>"
            ]
          },
          "metadata": {
            "tags": [],
            "needs_background": "light"
          }
        }
      ]
    }
  ]
}